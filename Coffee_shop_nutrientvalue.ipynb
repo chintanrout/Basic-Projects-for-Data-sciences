{
  "nbformat": 4,
  "nbformat_minor": 0,
  "metadata": {
    "colab": {
      "name": "Coffee_shop_nutrientvalue.ipynb",
      "provenance": [],
      "collapsed_sections": [],
      "authorship_tag": "ABX9TyP9pFMedu1+teQUvW/SMEL2",
      "include_colab_link": true
    },
    "kernelspec": {
      "name": "python3",
      "display_name": "Python 3"
    },
    "language_info": {
      "name": "python"
    }
  },
  "cells": [
    {
      "cell_type": "markdown",
      "metadata": {
        "id": "view-in-github",
        "colab_type": "text"
      },
      "source": [
        "<a href=\"https://colab.research.google.com/github/chintanrout/Basic-Projects-for-Data-sciences/blob/main/Coffee_shop_nutrientvalue.ipynb\" target=\"_parent\"><img src=\"https://colab.research.google.com/assets/colab-badge.svg\" alt=\"Open In Colab\"/></a>"
      ]
    },
    {
      "cell_type": "code",
      "metadata": {
        "id": "qAk-qPlkTigB"
      },
      "source": [
        "import pandas as pd\n",
        "import numpy as np\n",
        "import seaborn as sns\n",
        "import matplotlib.pyplot as plt\n",
        "from statsmodels.formula.api import ols\n",
        "from statsmodels.stats.anova import anova_lm\n",
        "from scipy import stats\n",
        "import statsmodels.formula.api as smf\n"
      ],
      "execution_count": 88,
      "outputs": []
    },
    {
      "cell_type": "code",
      "metadata": {
        "id": "YZjwchhTUbsX"
      },
      "source": [
        "df = pd.read_csv('CoffeeShopMenu.csv')"
      ],
      "execution_count": 6,
      "outputs": []
    },
    {
      "cell_type": "code",
      "metadata": {
        "colab": {
          "base_uri": "https://localhost:8080/"
        },
        "id": "qgtQQZ7h4tzu",
        "outputId": "8579ef00-3b20-47f0-962c-1ff0bb575d26"
      },
      "source": [
        "pip install bioinfokit"
      ],
      "execution_count": 4,
      "outputs": [
        {
          "output_type": "stream",
          "text": [
            "Collecting bioinfokit\n",
            "  Downloading bioinfokit-2.0.4.tar.gz (82 kB)\n",
            "\u001b[?25l\r\u001b[K     |████                            | 10 kB 21.9 MB/s eta 0:00:01\r\u001b[K     |████████                        | 20 kB 27.2 MB/s eta 0:00:01\r\u001b[K     |████████████                    | 30 kB 22.2 MB/s eta 0:00:01\r\u001b[K     |███████████████▉                | 40 kB 19.0 MB/s eta 0:00:01\r\u001b[K     |███████████████████▉            | 51 kB 9.6 MB/s eta 0:00:01\r\u001b[K     |███████████████████████▉        | 61 kB 8.7 MB/s eta 0:00:01\r\u001b[K     |███████████████████████████▊    | 71 kB 8.3 MB/s eta 0:00:01\r\u001b[K     |███████████████████████████████▊| 81 kB 9.2 MB/s eta 0:00:01\r\u001b[K     |████████████████████████████████| 82 kB 753 kB/s \n",
            "\u001b[?25hRequirement already satisfied: pandas in /usr/local/lib/python3.7/dist-packages (from bioinfokit) (1.1.5)\n",
            "Requirement already satisfied: numpy in /usr/local/lib/python3.7/dist-packages (from bioinfokit) (1.19.5)\n",
            "Requirement already satisfied: matplotlib in /usr/local/lib/python3.7/dist-packages (from bioinfokit) (3.2.2)\n",
            "Requirement already satisfied: scipy in /usr/local/lib/python3.7/dist-packages (from bioinfokit) (1.4.1)\n",
            "Requirement already satisfied: scikit-learn in /usr/local/lib/python3.7/dist-packages (from bioinfokit) (0.22.2.post1)\n",
            "Requirement already satisfied: seaborn in /usr/local/lib/python3.7/dist-packages (from bioinfokit) (0.11.1)\n",
            "Requirement already satisfied: matplotlib-venn in /usr/local/lib/python3.7/dist-packages (from bioinfokit) (0.11.6)\n",
            "Requirement already satisfied: tabulate in /usr/local/lib/python3.7/dist-packages (from bioinfokit) (0.8.9)\n",
            "Requirement already satisfied: statsmodels in /usr/local/lib/python3.7/dist-packages (from bioinfokit) (0.10.2)\n",
            "Collecting textwrap3\n",
            "  Downloading textwrap3-0.9.2-py2.py3-none-any.whl (12 kB)\n",
            "Collecting adjustText\n",
            "  Downloading adjustText-0.7.3.tar.gz (7.5 kB)\n",
            "Requirement already satisfied: kiwisolver>=1.0.1 in /usr/local/lib/python3.7/dist-packages (from matplotlib->bioinfokit) (1.3.1)\n",
            "Requirement already satisfied: cycler>=0.10 in /usr/local/lib/python3.7/dist-packages (from matplotlib->bioinfokit) (0.10.0)\n",
            "Requirement already satisfied: pyparsing!=2.0.4,!=2.1.2,!=2.1.6,>=2.0.1 in /usr/local/lib/python3.7/dist-packages (from matplotlib->bioinfokit) (2.4.7)\n",
            "Requirement already satisfied: python-dateutil>=2.1 in /usr/local/lib/python3.7/dist-packages (from matplotlib->bioinfokit) (2.8.1)\n",
            "Requirement already satisfied: six in /usr/local/lib/python3.7/dist-packages (from cycler>=0.10->matplotlib->bioinfokit) (1.15.0)\n",
            "Requirement already satisfied: pytz>=2017.2 in /usr/local/lib/python3.7/dist-packages (from pandas->bioinfokit) (2018.9)\n",
            "Requirement already satisfied: joblib>=0.11 in /usr/local/lib/python3.7/dist-packages (from scikit-learn->bioinfokit) (1.0.1)\n",
            "Requirement already satisfied: patsy>=0.4.0 in /usr/local/lib/python3.7/dist-packages (from statsmodels->bioinfokit) (0.5.1)\n",
            "Building wheels for collected packages: bioinfokit, adjustText\n",
            "  Building wheel for bioinfokit (setup.py) ... \u001b[?25l\u001b[?25hdone\n",
            "  Created wheel for bioinfokit: filename=bioinfokit-2.0.4-py3-none-any.whl size=56009 sha256=91cc7c50381b1e57a45e24776bc81afc31fc0ff5cb4967394125416de58d86d7\n",
            "  Stored in directory: /root/.cache/pip/wheels/5d/f0/f9/3cfa74f39676f6745eeb99be64826173241a47808d2cb2f30f\n",
            "  Building wheel for adjustText (setup.py) ... \u001b[?25l\u001b[?25hdone\n",
            "  Created wheel for adjustText: filename=adjustText-0.7.3-py3-none-any.whl size=7095 sha256=c5f8cbb68159738f1586e0d069b64104c8193a41e5c15a17a3910a88a573c132\n",
            "  Stored in directory: /root/.cache/pip/wheels/2f/98/32/afbf902d8f040fadfdf0a44357e4ab750afe165d873bf5893d\n",
            "Successfully built bioinfokit adjustText\n",
            "Installing collected packages: textwrap3, adjustText, bioinfokit\n",
            "Successfully installed adjustText-0.7.3 bioinfokit-2.0.4 textwrap3-0.9.2\n"
          ],
          "name": "stdout"
        }
      ]
    },
    {
      "cell_type": "code",
      "metadata": {
        "id": "79h3fWVi4qhf"
      },
      "source": [
        "from bioinfokit.analys import stat"
      ],
      "execution_count": 5,
      "outputs": []
    },
    {
      "cell_type": "code",
      "metadata": {
        "colab": {
          "base_uri": "https://localhost:8080/",
          "height": 326
        },
        "id": "mz2Mh6jZUg5R",
        "outputId": "0c39874d-ce5d-49dd-a148-23cc01b9e057"
      },
      "source": [
        "df.head()"
      ],
      "execution_count": 7,
      "outputs": [
        {
          "output_type": "execute_result",
          "data": {
            "text/html": [
              "<div>\n",
              "<style scoped>\n",
              "    .dataframe tbody tr th:only-of-type {\n",
              "        vertical-align: middle;\n",
              "    }\n",
              "\n",
              "    .dataframe tbody tr th {\n",
              "        vertical-align: top;\n",
              "    }\n",
              "\n",
              "    .dataframe thead th {\n",
              "        text-align: right;\n",
              "    }\n",
              "</style>\n",
              "<table border=\"1\" class=\"dataframe\">\n",
              "  <thead>\n",
              "    <tr style=\"text-align: right;\">\n",
              "      <th></th>\n",
              "      <th>Category</th>\n",
              "      <th>Beverage</th>\n",
              "      <th>Size</th>\n",
              "      <th>Milk</th>\n",
              "      <th>Calories</th>\n",
              "      <th>TotalFat</th>\n",
              "      <th>TransFat</th>\n",
              "      <th>SaturatedFat</th>\n",
              "      <th>Sodium</th>\n",
              "      <th>TotalCarb</th>\n",
              "      <th>Cholesterol</th>\n",
              "      <th>DietaryFibre</th>\n",
              "      <th>Sugars</th>\n",
              "      <th>Protein</th>\n",
              "    </tr>\n",
              "  </thead>\n",
              "  <tbody>\n",
              "    <tr>\n",
              "      <th>0</th>\n",
              "      <td>Coffee</td>\n",
              "      <td>Brewed Coffee</td>\n",
              "      <td>Short</td>\n",
              "      <td>None</td>\n",
              "      <td>3</td>\n",
              "      <td>0.1</td>\n",
              "      <td>0.0</td>\n",
              "      <td>0.0</td>\n",
              "      <td>0</td>\n",
              "      <td>5</td>\n",
              "      <td>0</td>\n",
              "      <td>0</td>\n",
              "      <td>0</td>\n",
              "      <td>0.3</td>\n",
              "    </tr>\n",
              "    <tr>\n",
              "      <th>1</th>\n",
              "      <td>Coffee</td>\n",
              "      <td>Brewed Coffee</td>\n",
              "      <td>Tall</td>\n",
              "      <td>None</td>\n",
              "      <td>4</td>\n",
              "      <td>0.1</td>\n",
              "      <td>0.0</td>\n",
              "      <td>0.0</td>\n",
              "      <td>0</td>\n",
              "      <td>10</td>\n",
              "      <td>0</td>\n",
              "      <td>0</td>\n",
              "      <td>0</td>\n",
              "      <td>0.5</td>\n",
              "    </tr>\n",
              "    <tr>\n",
              "      <th>2</th>\n",
              "      <td>Coffee</td>\n",
              "      <td>Brewed Coffee</td>\n",
              "      <td>Grande</td>\n",
              "      <td>None</td>\n",
              "      <td>5</td>\n",
              "      <td>0.1</td>\n",
              "      <td>0.0</td>\n",
              "      <td>0.0</td>\n",
              "      <td>0</td>\n",
              "      <td>10</td>\n",
              "      <td>0</td>\n",
              "      <td>0</td>\n",
              "      <td>0</td>\n",
              "      <td>1.0</td>\n",
              "    </tr>\n",
              "    <tr>\n",
              "      <th>3</th>\n",
              "      <td>Coffee</td>\n",
              "      <td>Brewed Coffee</td>\n",
              "      <td>Venti</td>\n",
              "      <td>None</td>\n",
              "      <td>5</td>\n",
              "      <td>0.1</td>\n",
              "      <td>0.0</td>\n",
              "      <td>0.0</td>\n",
              "      <td>0</td>\n",
              "      <td>10</td>\n",
              "      <td>0</td>\n",
              "      <td>0</td>\n",
              "      <td>0</td>\n",
              "      <td>1.0</td>\n",
              "    </tr>\n",
              "    <tr>\n",
              "      <th>4</th>\n",
              "      <td>Classic Espresso Drinks</td>\n",
              "      <td>Caffe Latte</td>\n",
              "      <td>Short</td>\n",
              "      <td>Nonfat Milk</td>\n",
              "      <td>70</td>\n",
              "      <td>0.1</td>\n",
              "      <td>0.1</td>\n",
              "      <td>0.0</td>\n",
              "      <td>5</td>\n",
              "      <td>75</td>\n",
              "      <td>10</td>\n",
              "      <td>0</td>\n",
              "      <td>9</td>\n",
              "      <td>6.0</td>\n",
              "    </tr>\n",
              "  </tbody>\n",
              "</table>\n",
              "</div>"
            ],
            "text/plain": [
              "                  Category       Beverage  ... Sugars Protein\n",
              "0                   Coffee  Brewed Coffee  ...      0     0.3\n",
              "1                   Coffee  Brewed Coffee  ...      0     0.5\n",
              "2                   Coffee  Brewed Coffee  ...      0     1.0\n",
              "3                   Coffee  Brewed Coffee  ...      0     1.0\n",
              "4  Classic Espresso Drinks    Caffe Latte  ...      9     6.0\n",
              "\n",
              "[5 rows x 14 columns]"
            ]
          },
          "metadata": {
            "tags": []
          },
          "execution_count": 7
        }
      ]
    },
    {
      "cell_type": "code",
      "metadata": {
        "colab": {
          "base_uri": "https://localhost:8080/"
        },
        "id": "wO0fXvSXU4fr",
        "outputId": "2f570710-5b39-4898-e1d6-0966c920ed2a"
      },
      "source": [
        "df.shape"
      ],
      "execution_count": 8,
      "outputs": [
        {
          "output_type": "execute_result",
          "data": {
            "text/plain": [
              "(238, 14)"
            ]
          },
          "metadata": {
            "tags": []
          },
          "execution_count": 8
        }
      ]
    },
    {
      "cell_type": "code",
      "metadata": {
        "colab": {
          "base_uri": "https://localhost:8080/"
        },
        "id": "_uYpwYXbUh8n",
        "outputId": "fd08a350-6b23-4219-b257-d13fd889ef7d"
      },
      "source": [
        "df.info()"
      ],
      "execution_count": 9,
      "outputs": [
        {
          "output_type": "stream",
          "text": [
            "<class 'pandas.core.frame.DataFrame'>\n",
            "RangeIndex: 238 entries, 0 to 237\n",
            "Data columns (total 14 columns):\n",
            " #   Column        Non-Null Count  Dtype  \n",
            "---  ------        --------------  -----  \n",
            " 0   Category      238 non-null    object \n",
            " 1   Beverage      238 non-null    object \n",
            " 2   Size          238 non-null    object \n",
            " 3   Milk          238 non-null    object \n",
            " 4   Calories      238 non-null    int64  \n",
            " 5   TotalFat      238 non-null    float64\n",
            " 6   TransFat      238 non-null    float64\n",
            " 7   SaturatedFat  238 non-null    float64\n",
            " 8   Sodium        238 non-null    int64  \n",
            " 9   TotalCarb     238 non-null    int64  \n",
            " 10  Cholesterol   238 non-null    int64  \n",
            " 11  DietaryFibre  238 non-null    int64  \n",
            " 12  Sugars        238 non-null    int64  \n",
            " 13  Protein       238 non-null    float64\n",
            "dtypes: float64(4), int64(6), object(4)\n",
            "memory usage: 26.2+ KB\n"
          ],
          "name": "stdout"
        }
      ]
    },
    {
      "cell_type": "code",
      "metadata": {
        "id": "d2gsPmd9Ur42"
      },
      "source": [
        "#As we can see from this there are no missing objects so we are good to move ahead"
      ],
      "execution_count": 10,
      "outputs": []
    },
    {
      "cell_type": "code",
      "metadata": {
        "colab": {
          "base_uri": "https://localhost:8080/",
          "height": 359
        },
        "id": "U6mPVOHaU_lT",
        "outputId": "ef238a9f-e5a2-48c9-9483-d6b1e80da20f"
      },
      "source": [
        "df.describe().T"
      ],
      "execution_count": 11,
      "outputs": [
        {
          "output_type": "execute_result",
          "data": {
            "text/html": [
              "<div>\n",
              "<style scoped>\n",
              "    .dataframe tbody tr th:only-of-type {\n",
              "        vertical-align: middle;\n",
              "    }\n",
              "\n",
              "    .dataframe tbody tr th {\n",
              "        vertical-align: top;\n",
              "    }\n",
              "\n",
              "    .dataframe thead th {\n",
              "        text-align: right;\n",
              "    }\n",
              "</style>\n",
              "<table border=\"1\" class=\"dataframe\">\n",
              "  <thead>\n",
              "    <tr style=\"text-align: right;\">\n",
              "      <th></th>\n",
              "      <th>count</th>\n",
              "      <th>mean</th>\n",
              "      <th>std</th>\n",
              "      <th>min</th>\n",
              "      <th>25%</th>\n",
              "      <th>50%</th>\n",
              "      <th>75%</th>\n",
              "      <th>max</th>\n",
              "    </tr>\n",
              "  </thead>\n",
              "  <tbody>\n",
              "    <tr>\n",
              "      <th>Calories</th>\n",
              "      <td>238.0</td>\n",
              "      <td>193.810924</td>\n",
              "      <td>103.668135</td>\n",
              "      <td>0.0</td>\n",
              "      <td>120.0</td>\n",
              "      <td>185.0</td>\n",
              "      <td>260.00</td>\n",
              "      <td>510.0</td>\n",
              "    </tr>\n",
              "    <tr>\n",
              "      <th>TotalFat</th>\n",
              "      <td>238.0</td>\n",
              "      <td>2.931933</td>\n",
              "      <td>2.956133</td>\n",
              "      <td>0.0</td>\n",
              "      <td>0.2</td>\n",
              "      <td>2.5</td>\n",
              "      <td>4.50</td>\n",
              "      <td>15.0</td>\n",
              "    </tr>\n",
              "    <tr>\n",
              "      <th>TransFat</th>\n",
              "      <td>238.0</td>\n",
              "      <td>1.318908</td>\n",
              "      <td>1.648097</td>\n",
              "      <td>0.0</td>\n",
              "      <td>0.1</td>\n",
              "      <td>0.5</td>\n",
              "      <td>2.00</td>\n",
              "      <td>9.0</td>\n",
              "    </tr>\n",
              "    <tr>\n",
              "      <th>SaturatedFat</th>\n",
              "      <td>238.0</td>\n",
              "      <td>0.037815</td>\n",
              "      <td>0.071737</td>\n",
              "      <td>0.0</td>\n",
              "      <td>0.0</td>\n",
              "      <td>0.0</td>\n",
              "      <td>0.10</td>\n",
              "      <td>0.3</td>\n",
              "    </tr>\n",
              "    <tr>\n",
              "      <th>Sodium</th>\n",
              "      <td>238.0</td>\n",
              "      <td>6.407563</td>\n",
              "      <td>8.679348</td>\n",
              "      <td>0.0</td>\n",
              "      <td>0.0</td>\n",
              "      <td>5.0</td>\n",
              "      <td>10.00</td>\n",
              "      <td>40.0</td>\n",
              "    </tr>\n",
              "    <tr>\n",
              "      <th>TotalCarb</th>\n",
              "      <td>238.0</td>\n",
              "      <td>128.067227</td>\n",
              "      <td>82.656396</td>\n",
              "      <td>0.0</td>\n",
              "      <td>70.0</td>\n",
              "      <td>120.0</td>\n",
              "      <td>170.00</td>\n",
              "      <td>340.0</td>\n",
              "    </tr>\n",
              "    <tr>\n",
              "      <th>Cholesterol</th>\n",
              "      <td>238.0</td>\n",
              "      <td>35.878151</td>\n",
              "      <td>20.927388</td>\n",
              "      <td>0.0</td>\n",
              "      <td>21.0</td>\n",
              "      <td>34.0</td>\n",
              "      <td>50.75</td>\n",
              "      <td>90.0</td>\n",
              "    </tr>\n",
              "    <tr>\n",
              "      <th>DietaryFibre</th>\n",
              "      <td>238.0</td>\n",
              "      <td>0.815126</td>\n",
              "      <td>1.455189</td>\n",
              "      <td>0.0</td>\n",
              "      <td>0.0</td>\n",
              "      <td>0.0</td>\n",
              "      <td>1.00</td>\n",
              "      <td>8.0</td>\n",
              "    </tr>\n",
              "    <tr>\n",
              "      <th>Sugars</th>\n",
              "      <td>238.0</td>\n",
              "      <td>32.819328</td>\n",
              "      <td>19.838082</td>\n",
              "      <td>0.0</td>\n",
              "      <td>18.0</td>\n",
              "      <td>32.0</td>\n",
              "      <td>43.75</td>\n",
              "      <td>84.0</td>\n",
              "    </tr>\n",
              "    <tr>\n",
              "      <th>Protein</th>\n",
              "      <td>238.0</td>\n",
              "      <td>7.032773</td>\n",
              "      <td>4.893173</td>\n",
              "      <td>0.0</td>\n",
              "      <td>3.0</td>\n",
              "      <td>6.0</td>\n",
              "      <td>10.00</td>\n",
              "      <td>20.0</td>\n",
              "    </tr>\n",
              "  </tbody>\n",
              "</table>\n",
              "</div>"
            ],
            "text/plain": [
              "              count        mean         std  min    25%    50%     75%    max\n",
              "Calories      238.0  193.810924  103.668135  0.0  120.0  185.0  260.00  510.0\n",
              "TotalFat      238.0    2.931933    2.956133  0.0    0.2    2.5    4.50   15.0\n",
              "TransFat      238.0    1.318908    1.648097  0.0    0.1    0.5    2.00    9.0\n",
              "SaturatedFat  238.0    0.037815    0.071737  0.0    0.0    0.0    0.10    0.3\n",
              "Sodium        238.0    6.407563    8.679348  0.0    0.0    5.0   10.00   40.0\n",
              "TotalCarb     238.0  128.067227   82.656396  0.0   70.0  120.0  170.00  340.0\n",
              "Cholesterol   238.0   35.878151   20.927388  0.0   21.0   34.0   50.75   90.0\n",
              "DietaryFibre  238.0    0.815126    1.455189  0.0    0.0    0.0    1.00    8.0\n",
              "Sugars        238.0   32.819328   19.838082  0.0   18.0   32.0   43.75   84.0\n",
              "Protein       238.0    7.032773    4.893173  0.0    3.0    6.0   10.00   20.0"
            ]
          },
          "metadata": {
            "tags": []
          },
          "execution_count": 11
        }
      ]
    },
    {
      "cell_type": "code",
      "metadata": {
        "id": "OF_f5yJiVVMs"
      },
      "source": [
        "#A good insight from the data that we can assume from here is that most of the numerical data is normally distributed. Excpet Dietery Fibre even TotalFat"
      ],
      "execution_count": 12,
      "outputs": []
    },
    {
      "cell_type": "code",
      "metadata": {
        "colab": {
          "base_uri": "https://localhost:8080/",
          "height": 296
        },
        "id": "qRqwtdNmVA-J",
        "outputId": "37b91d5e-064d-4ec3-f7a8-18656663bf2e"
      },
      "source": [
        "sns.kdeplot(df.Calories)"
      ],
      "execution_count": 13,
      "outputs": [
        {
          "output_type": "execute_result",
          "data": {
            "text/plain": [
              "<matplotlib.axes._subplots.AxesSubplot at 0x7f444e6b2410>"
            ]
          },
          "metadata": {
            "tags": []
          },
          "execution_count": 13
        },
        {
          "output_type": "display_data",
          "data": {
            "image/png": "[encoded data removed]",
            "text/plain": [
              "<Figure size 432x288 with 1 Axes>"
            ]
          },
          "metadata": {
            "tags": [],
            "needs_background": "light"
          }
        }
      ]
    },
    {
      "cell_type": "code",
      "metadata": {
        "colab": {
          "base_uri": "https://localhost:8080/",
          "height": 350
        },
        "id": "RWR6cmkI9HdK",
        "outputId": "af59bcc7-ecc9-4ab0-c8db-f1d79d299541"
      },
      "source": [
        "sns.distplot(df.Calories)"
      ],
      "execution_count": 37,
      "outputs": [
        {
          "output_type": "stream",
          "text": [
            "/usr/local/lib/python3.7/dist-packages/seaborn/distributions.py:2557: FutureWarning: `distplot` is a deprecated function and will be removed in a future version. Please adapt your code to use either `displot` (a figure-level function with similar flexibility) or `histplot` (an axes-level function for histograms).\n",
            "  warnings.warn(msg, FutureWarning)\n"
          ],
          "name": "stderr"
        },
        {
          "output_type": "execute_result",
          "data": {
            "text/plain": [
              "<matplotlib.axes._subplots.AxesSubplot at 0x7f444355b910>"
            ]
          },
          "metadata": {
            "tags": []
          },
          "execution_count": 37
        },
        {
          "output_type": "display_data",
          "data": {
            "image/png": "[encoded data removed]",
            "text/plain": [
              "<Figure size 432x288 with 1 Axes>"
            ]
          },
          "metadata": {
            "tags": [],
            "needs_background": "light"
          }
        }
      ]
    },
    {
      "cell_type": "code",
      "metadata": {
        "id": "06By5OxPVL0O"
      },
      "source": [
        "#As seen the calories graph is normally ditributed and doesn't seem to be skewed in anyway "
      ],
      "execution_count": 14,
      "outputs": []
    },
    {
      "cell_type": "code",
      "metadata": {
        "colab": {
          "base_uri": "https://localhost:8080/",
          "height": 296
        },
        "id": "MwatWuksVzuu",
        "outputId": "7b3c5b8e-dea6-4e7a-ce26-d5d5e5858493"
      },
      "source": [
        "sns.kdeplot(df.DietaryFibre)"
      ],
      "execution_count": 15,
      "outputs": [
        {
          "output_type": "execute_result",
          "data": {
            "text/plain": [
              "<matplotlib.axes._subplots.AxesSubplot at 0x7f444e374d90>"
            ]
          },
          "metadata": {
            "tags": []
          },
          "execution_count": 15
        },
        {
          "output_type": "display_data",
          "data": {
            "image/png": "[encoded data removed]",
            "text/plain": [
              "<Figure size 432x288 with 1 Axes>"
            ]
          },
          "metadata": {
            "tags": [],
            "needs_background": "light"
          }
        }
      ]
    },
    {
      "cell_type": "code",
      "metadata": {
        "id": "1VEsViZ_V6A7"
      },
      "source": [
        "#This is the only numerical data that is extremely righ skewed. "
      ],
      "execution_count": 16,
      "outputs": []
    },
    {
      "cell_type": "code",
      "metadata": {
        "colab": {
          "base_uri": "https://localhost:8080/"
        },
        "id": "0bFiO60cWL5X",
        "outputId": "b39401d5-5a84-4787-bd8d-de7c2b96df8f"
      },
      "source": [
        "df.columns"
      ],
      "execution_count": 17,
      "outputs": [
        {
          "output_type": "execute_result",
          "data": {
            "text/plain": [
              "Index(['Category', 'Beverage', 'Size', 'Milk', 'Calories', 'TotalFat',\n",
              "       'TransFat', 'SaturatedFat', 'Sodium', 'TotalCarb', 'Cholesterol',\n",
              "       'DietaryFibre', 'Sugars', 'Protein'],\n",
              "      dtype='object')"
            ]
          },
          "metadata": {
            "tags": []
          },
          "execution_count": 17
        }
      ]
    },
    {
      "cell_type": "code",
      "metadata": {
        "colab": {
          "base_uri": "https://localhost:8080/",
          "height": 320
        },
        "id": "H6jjM3iIWNml",
        "outputId": "b5f41e6f-4ccd-4981-eb50-b7b21503e04d"
      },
      "source": [
        "fig, ax = plt.subplots(figsize=(30, 10))\n",
        "sns.barplot(y= df.Calories,x = df.Category, data = df,ax= ax)\n"
      ],
      "execution_count": 18,
      "outputs": [
        {
          "output_type": "execute_result",
          "data": {
            "text/plain": [
              "<matplotlib.axes._subplots.AxesSubplot at 0x7f444deaa4d0>"
            ]
          },
          "metadata": {
            "tags": []
          },
          "execution_count": 18
        },
        {
          "output_type": "display_data",
          "data": {
            "image/png": "[encoded data removed]",
            "text/plain": [
              "<Figure size 2160x720 with 1 Axes>"
            ]
          },
          "metadata": {
            "tags": [],
            "needs_background": "light"
          }
        }
      ]
    },
    {
      "cell_type": "code",
      "metadata": {
        "id": "dwr7USC0Wtgc"
      },
      "source": [
        "# A simple conclusion from this bar chart is that Smoothies, fraps, espressos have an unusally high calorie value unlike coffee with the least one\n"
      ],
      "execution_count": 19,
      "outputs": []
    },
    {
      "cell_type": "code",
      "metadata": {
        "colab": {
          "base_uri": "https://localhost:8080/",
          "height": 351
        },
        "id": "nqNsQ1a7YnnH",
        "outputId": "23aa595e-5bff-44bf-f2bc-3bff354f9c8d"
      },
      "source": [
        "fig, ax = plt.subplots(figsize=(8, 5))\n",
        "sns.barplot(y= df.Calories,x = df.Milk, data = df,ax= ax)"
      ],
      "execution_count": 20,
      "outputs": [
        {
          "output_type": "execute_result",
          "data": {
            "text/plain": [
              "<matplotlib.axes._subplots.AxesSubplot at 0x7f444ddcc5d0>"
            ]
          },
          "metadata": {
            "tags": []
          },
          "execution_count": 20
        },
        {
          "output_type": "display_data",
          "data": {
            "image/png": "[encoded data removed]",
            "text/plain": [
              "<Figure size 576x360 with 1 Axes>"
            ]
          },
          "metadata": {
            "tags": [],
            "needs_background": "light"
          }
        }
      ]
    },
    {
      "cell_type": "code",
      "metadata": {
        "id": "Xl_UI_trYsLf"
      },
      "source": [
        "#A simple conclusion from this said analysis is that no milk has the lowest calories while Whole milk has the highest"
      ],
      "execution_count": 21,
      "outputs": []
    },
    {
      "cell_type": "code",
      "metadata": {
        "colab": {
          "base_uri": "https://localhost:8080/",
          "height": 351
        },
        "id": "ZBQfgzgnZCDO",
        "outputId": "90ad618a-9bd1-49f2-aaba-47c7817bb87b"
      },
      "source": [
        "fig, ax = plt.subplots(figsize=(8, 5))\n",
        "sns.barplot(y= df.Calories,x = df.Size, data = df,ax= ax)"
      ],
      "execution_count": 22,
      "outputs": [
        {
          "output_type": "execute_result",
          "data": {
            "text/plain": [
              "<matplotlib.axes._subplots.AxesSubplot at 0x7f444dd59450>"
            ]
          },
          "metadata": {
            "tags": []
          },
          "execution_count": 22
        },
        {
          "output_type": "display_data",
          "data": {
            "image/png": "[encoded data removed]",
            "text/plain": [
              "<Figure size 576x360 with 1 Axes>"
            ]
          },
          "metadata": {
            "tags": [],
            "needs_background": "light"
          }
        }
      ]
    },
    {
      "cell_type": "code",
      "metadata": {
        "colab": {
          "base_uri": "https://localhost:8080/"
        },
        "id": "j1nvltQSZJ6K",
        "outputId": "4d414a34-f06c-4783-d50f-ca902320c67a"
      },
      "source": [
        "df.Category.value_counts()"
      ],
      "execution_count": 23,
      "outputs": [
        {
          "output_type": "execute_result",
          "data": {
            "text/plain": [
              "Classic Espresso Drinks             58\n",
              "Tazo Tea Drinks                     52\n",
              "Signature Espresso Drinks           40\n",
              "Frappuccino Blended Coffee          36\n",
              "Shaken Iced Beverages               18\n",
              "Frappuccino Light Blended Coffee    12\n",
              "Smoothies                            9\n",
              "Frappuccino Blended Creme            9\n",
              "Coffee                               4\n",
              "Name: Category, dtype: int64"
            ]
          },
          "metadata": {
            "tags": []
          },
          "execution_count": 23
        }
      ]
    },
    {
      "cell_type": "code",
      "metadata": {
        "id": "-7Z8p_HwbTFL"
      },
      "source": [
        "df['Calorie_cat'] = np.where(df.Calories>180, 'High Calorie', 'Low Calorie')"
      ],
      "execution_count": 24,
      "outputs": []
    },
    {
      "cell_type": "code",
      "metadata": {
        "colab": {
          "base_uri": "https://localhost:8080/"
        },
        "id": "FqkX8qQ7cYnT",
        "outputId": "af72fb75-738c-4b0f-e2e6-0501fc30ce83"
      },
      "source": [
        "df.Calorie_cat.value_counts()"
      ],
      "execution_count": 25,
      "outputs": [
        {
          "output_type": "execute_result",
          "data": {
            "text/plain": [
              "High Calorie    119\n",
              "Low Calorie     119\n",
              "Name: Calorie_cat, dtype: int64"
            ]
          },
          "metadata": {
            "tags": []
          },
          "execution_count": 25
        }
      ]
    },
    {
      "cell_type": "code",
      "metadata": {
        "id": "tG9uor83chpr",
        "colab": {
          "base_uri": "https://localhost:8080/",
          "height": 350
        },
        "outputId": "66149712-326b-4bbe-8197-91690001b794"
      },
      "source": [
        "sns.boxplot(df.Calories,df.Calorie_cat)"
      ],
      "execution_count": 26,
      "outputs": [
        {
          "output_type": "stream",
          "text": [
            "/usr/local/lib/python3.7/dist-packages/seaborn/_decorators.py:43: FutureWarning: Pass the following variables as keyword args: x, y. From version 0.12, the only valid positional argument will be `data`, and passing other arguments without an explicit keyword will result in an error or misinterpretation.\n",
            "  FutureWarning\n"
          ],
          "name": "stderr"
        },
        {
          "output_type": "execute_result",
          "data": {
            "text/plain": [
              "<matplotlib.axes._subplots.AxesSubplot at 0x7f444dcf6fd0>"
            ]
          },
          "metadata": {
            "tags": []
          },
          "execution_count": 26
        },
        {
          "output_type": "display_data",
          "data": {
            "image/png": "[encoded data removed]",
            "text/plain": [
              "<Figure size 432x288 with 1 Axes>"
            ]
          },
          "metadata": {
            "tags": [],
            "needs_background": "light"
          }
        }
      ]
    },
    {
      "cell_type": "code",
      "metadata": {
        "id": "n1H5KyAHV2Ds"
      },
      "source": [
        "#No very skewed and mostly normally distributed wihtout any outliers\n"
      ],
      "execution_count": 27,
      "outputs": []
    },
    {
      "cell_type": "code",
      "metadata": {
        "colab": {
          "base_uri": "https://localhost:8080/",
          "height": 350
        },
        "id": "E-DTJB8tWfST",
        "outputId": "ccff0d10-4f3d-4202-d6b6-c6b2d5ba190a"
      },
      "source": [
        "sns.boxplot(df.Milk,df.Calories)"
      ],
      "execution_count": 28,
      "outputs": [
        {
          "output_type": "stream",
          "text": [
            "/usr/local/lib/python3.7/dist-packages/seaborn/_decorators.py:43: FutureWarning: Pass the following variables as keyword args: x, y. From version 0.12, the only valid positional argument will be `data`, and passing other arguments without an explicit keyword will result in an error or misinterpretation.\n",
            "  FutureWarning\n"
          ],
          "name": "stderr"
        },
        {
          "output_type": "execute_result",
          "data": {
            "text/plain": [
              "<matplotlib.axes._subplots.AxesSubplot at 0x7f444dc7d090>"
            ]
          },
          "metadata": {
            "tags": []
          },
          "execution_count": 28
        },
        {
          "output_type": "display_data",
          "data": {
            "image/png": "[encoded data removed]",
            "text/plain": [
              "<Figure size 432x288 with 1 Axes>"
            ]
          },
          "metadata": {
            "tags": [],
            "needs_background": "light"
          }
        }
      ]
    },
    {
      "cell_type": "code",
      "metadata": {
        "colab": {
          "base_uri": "https://localhost:8080/",
          "height": 379
        },
        "id": "jr7pwkghW_Zs",
        "outputId": "78dea9e6-4f37-4b11-a77b-b5f8ae194466"
      },
      "source": [
        "df.corr()"
      ],
      "execution_count": 29,
      "outputs": [
        {
          "output_type": "execute_result",
          "data": {
            "text/html": [
              "<div>\n",
              "<style scoped>\n",
              "    .dataframe tbody tr th:only-of-type {\n",
              "        vertical-align: middle;\n",
              "    }\n",
              "\n",
              "    .dataframe tbody tr th {\n",
              "        vertical-align: top;\n",
              "    }\n",
              "\n",
              "    .dataframe thead th {\n",
              "        text-align: right;\n",
              "    }\n",
              "</style>\n",
              "<table border=\"1\" class=\"dataframe\">\n",
              "  <thead>\n",
              "    <tr style=\"text-align: right;\">\n",
              "      <th></th>\n",
              "      <th>Calories</th>\n",
              "      <th>TotalFat</th>\n",
              "      <th>TransFat</th>\n",
              "      <th>SaturatedFat</th>\n",
              "      <th>Sodium</th>\n",
              "      <th>TotalCarb</th>\n",
              "      <th>Cholesterol</th>\n",
              "      <th>DietaryFibre</th>\n",
              "      <th>Sugars</th>\n",
              "      <th>Protein</th>\n",
              "    </tr>\n",
              "  </thead>\n",
              "  <tbody>\n",
              "    <tr>\n",
              "      <th>Calories</th>\n",
              "      <td>1.000000</td>\n",
              "      <td>0.636476</td>\n",
              "      <td>0.645691</td>\n",
              "      <td>0.332305</td>\n",
              "      <td>0.388229</td>\n",
              "      <td>0.796933</td>\n",
              "      <td>0.940820</td>\n",
              "      <td>0.386000</td>\n",
              "      <td>0.911007</td>\n",
              "      <td>0.581001</td>\n",
              "    </tr>\n",
              "    <tr>\n",
              "      <th>TotalFat</th>\n",
              "      <td>0.636476</td>\n",
              "      <td>1.000000</td>\n",
              "      <td>0.889677</td>\n",
              "      <td>0.618044</td>\n",
              "      <td>0.585912</td>\n",
              "      <td>0.460300</td>\n",
              "      <td>0.379539</td>\n",
              "      <td>0.257285</td>\n",
              "      <td>0.338384</td>\n",
              "      <td>0.549996</td>\n",
              "    </tr>\n",
              "    <tr>\n",
              "      <th>TransFat</th>\n",
              "      <td>0.645691</td>\n",
              "      <td>0.889677</td>\n",
              "      <td>1.000000</td>\n",
              "      <td>0.693413</td>\n",
              "      <td>0.706656</td>\n",
              "      <td>0.533636</td>\n",
              "      <td>0.445614</td>\n",
              "      <td>0.129895</td>\n",
              "      <td>0.426742</td>\n",
              "      <td>0.496012</td>\n",
              "    </tr>\n",
              "    <tr>\n",
              "      <th>SaturatedFat</th>\n",
              "      <td>0.332305</td>\n",
              "      <td>0.618044</td>\n",
              "      <td>0.693413</td>\n",
              "      <td>1.000000</td>\n",
              "      <td>0.920493</td>\n",
              "      <td>0.242933</td>\n",
              "      <td>0.164689</td>\n",
              "      <td>-0.094424</td>\n",
              "      <td>0.182713</td>\n",
              "      <td>0.288548</td>\n",
              "    </tr>\n",
              "    <tr>\n",
              "      <th>Sodium</th>\n",
              "      <td>0.388229</td>\n",
              "      <td>0.585912</td>\n",
              "      <td>0.706656</td>\n",
              "      <td>0.920493</td>\n",
              "      <td>1.000000</td>\n",
              "      <td>0.294795</td>\n",
              "      <td>0.201423</td>\n",
              "      <td>-0.061158</td>\n",
              "      <td>0.208555</td>\n",
              "      <td>0.496262</td>\n",
              "    </tr>\n",
              "    <tr>\n",
              "      <th>TotalCarb</th>\n",
              "      <td>0.796933</td>\n",
              "      <td>0.460300</td>\n",
              "      <td>0.533636</td>\n",
              "      <td>0.242933</td>\n",
              "      <td>0.294795</td>\n",
              "      <td>1.000000</td>\n",
              "      <td>0.765836</td>\n",
              "      <td>0.178905</td>\n",
              "      <td>0.770051</td>\n",
              "      <td>0.419695</td>\n",
              "    </tr>\n",
              "    <tr>\n",
              "      <th>Cholesterol</th>\n",
              "      <td>0.940820</td>\n",
              "      <td>0.379539</td>\n",
              "      <td>0.445614</td>\n",
              "      <td>0.164689</td>\n",
              "      <td>0.201423</td>\n",
              "      <td>0.765836</td>\n",
              "      <td>1.000000</td>\n",
              "      <td>0.346333</td>\n",
              "      <td>0.984227</td>\n",
              "      <td>0.365335</td>\n",
              "    </tr>\n",
              "    <tr>\n",
              "      <th>DietaryFibre</th>\n",
              "      <td>0.386000</td>\n",
              "      <td>0.257285</td>\n",
              "      <td>0.129895</td>\n",
              "      <td>-0.094424</td>\n",
              "      <td>-0.061158</td>\n",
              "      <td>0.178905</td>\n",
              "      <td>0.346333</td>\n",
              "      <td>1.000000</td>\n",
              "      <td>0.188848</td>\n",
              "      <td>0.539622</td>\n",
              "    </tr>\n",
              "    <tr>\n",
              "      <th>Sugars</th>\n",
              "      <td>0.911007</td>\n",
              "      <td>0.338384</td>\n",
              "      <td>0.426742</td>\n",
              "      <td>0.182713</td>\n",
              "      <td>0.208555</td>\n",
              "      <td>0.770051</td>\n",
              "      <td>0.984227</td>\n",
              "      <td>0.188848</td>\n",
              "      <td>1.000000</td>\n",
              "      <td>0.268728</td>\n",
              "    </tr>\n",
              "    <tr>\n",
              "      <th>Protein</th>\n",
              "      <td>0.581001</td>\n",
              "      <td>0.549996</td>\n",
              "      <td>0.496012</td>\n",
              "      <td>0.288548</td>\n",
              "      <td>0.496262</td>\n",
              "      <td>0.419695</td>\n",
              "      <td>0.365335</td>\n",
              "      <td>0.539622</td>\n",
              "      <td>0.268728</td>\n",
              "      <td>1.000000</td>\n",
              "    </tr>\n",
              "  </tbody>\n",
              "</table>\n",
              "</div>"
            ],
            "text/plain": [
              "              Calories  TotalFat  TransFat  ...  DietaryFibre    Sugars   Protein\n",
              "Calories      1.000000  0.636476  0.645691  ...      0.386000  0.911007  0.581001\n",
              "TotalFat      0.636476  1.000000  0.889677  ...      0.257285  0.338384  0.549996\n",
              "TransFat      0.645691  0.889677  1.000000  ...      0.129895  0.426742  0.496012\n",
              "SaturatedFat  0.332305  0.618044  0.693413  ...     -0.094424  0.182713  0.288548\n",
              "Sodium        0.388229  0.585912  0.706656  ...     -0.061158  0.208555  0.496262\n",
              "TotalCarb     0.796933  0.460300  0.533636  ...      0.178905  0.770051  0.419695\n",
              "Cholesterol   0.940820  0.379539  0.445614  ...      0.346333  0.984227  0.365335\n",
              "DietaryFibre  0.386000  0.257285  0.129895  ...      1.000000  0.188848  0.539622\n",
              "Sugars        0.911007  0.338384  0.426742  ...      0.188848  1.000000  0.268728\n",
              "Protein       0.581001  0.549996  0.496012  ...      0.539622  0.268728  1.000000\n",
              "\n",
              "[10 rows x 10 columns]"
            ]
          },
          "metadata": {
            "tags": []
          },
          "execution_count": 29
        }
      ]
    },
    {
      "cell_type": "code",
      "metadata": {
        "colab": {
          "base_uri": "https://localhost:8080/",
          "height": 607
        },
        "id": "9eDR2P6gYzhG",
        "outputId": "510236b7-d41a-42b7-e2a9-812b81fa420e"
      },
      "source": [
        "plt.figure(figsize=(15,10))\n",
        "sns.heatmap(df.corr(),annot = True,cmap = 'rainbow')"
      ],
      "execution_count": 53,
      "outputs": [
        {
          "output_type": "execute_result",
          "data": {
            "text/plain": [
              "<matplotlib.axes._subplots.AxesSubplot at 0x7f4442d6d790>"
            ]
          },
          "metadata": {
            "tags": []
          },
          "execution_count": 53
        },
        {
          "output_type": "display_data",
          "data": {
            "image/png": "[encoded data removed]",
            "text/plain": [
              "<Figure size 1080x720 with 2 Axes>"
            ]
          },
          "metadata": {
            "tags": [],
            "needs_background": "light"
          }
        }
      ]
    },
    {
      "cell_type": "code",
      "metadata": {
        "id": "VeU11l-X9aJ4"
      },
      "source": [
        "objnames = df.dtypes[df.dtypes == 'object'].index\n",
        "numnames = df.dtypes[df.dtypes!='object'].index"
      ],
      "execution_count": 38,
      "outputs": []
    },
    {
      "cell_type": "code",
      "metadata": {
        "colab": {
          "base_uri": "https://localhost:8080/"
        },
        "id": "Ds9zfoWE9aHJ",
        "outputId": "0922c3ca-fce4-4d7c-bde5-680d71ea8c5a"
      },
      "source": [
        "objnames"
      ],
      "execution_count": 39,
      "outputs": [
        {
          "output_type": "execute_result",
          "data": {
            "text/plain": [
              "Index(['Category', 'Beverage', 'Size', 'Milk', 'Calorie_cat'], dtype='object')"
            ]
          },
          "metadata": {
            "tags": []
          },
          "execution_count": 39
        }
      ]
    },
    {
      "cell_type": "code",
      "metadata": {
        "colab": {
          "base_uri": "https://localhost:8080/"
        },
        "id": "qeoeONlj9aD4",
        "outputId": "8e501ae2-629b-4fba-e965-b46197bbe4cf"
      },
      "source": [
        "numnames"
      ],
      "execution_count": 40,
      "outputs": [
        {
          "output_type": "execute_result",
          "data": {
            "text/plain": [
              "Index(['Calories', 'TotalFat', 'TransFat', 'SaturatedFat', 'Sodium',\n",
              "       'TotalCarb', 'Cholesterol', 'DietaryFibre', 'Sugars', 'Protein'],\n",
              "      dtype='object')"
            ]
          },
          "metadata": {
            "tags": []
          },
          "execution_count": 40
        }
      ]
    },
    {
      "cell_type": "code",
      "metadata": {
        "colab": {
          "base_uri": "https://localhost:8080/"
        },
        "id": "1v1mW6zb9aBu",
        "outputId": "a9dbef8e-a2f2-44d5-819f-f672b3cf3466"
      },
      "source": [
        "len(numnames)"
      ],
      "execution_count": 41,
      "outputs": [
        {
          "output_type": "execute_result",
          "data": {
            "text/plain": [
              "10"
            ]
          },
          "metadata": {
            "tags": []
          },
          "execution_count": 41
        }
      ]
    },
    {
      "cell_type": "code",
      "metadata": {
        "colab": {
          "base_uri": "https://localhost:8080/",
          "height": 741
        },
        "id": "5c5dgIGR9Z-G",
        "outputId": "72d24611-6c3d-4625-8807-576f17786574"
      },
      "source": [
        "plt.figure(figsize =(15,6))\n",
        "count = 1\n",
        "for i in numnames:\n",
        "  plt.subplot(2,5,count)\n",
        "  sns.boxplot(df.loc[:,i])\n",
        "  count = count+1\n"
      ],
      "execution_count": 44,
      "outputs": [
        {
          "output_type": "stream",
          "text": [
            "/usr/local/lib/python3.7/dist-packages/seaborn/_decorators.py:43: FutureWarning: Pass the following variable as a keyword arg: x. From version 0.12, the only valid positional argument will be `data`, and passing other arguments without an explicit keyword will result in an error or misinterpretation.\n",
            "  FutureWarning\n",
            "/usr/local/lib/python3.7/dist-packages/seaborn/_decorators.py:43: FutureWarning: Pass the following variable as a keyword arg: x. From version 0.12, the only valid positional argument will be `data`, and passing other arguments without an explicit keyword will result in an error or misinterpretation.\n",
            "  FutureWarning\n",
            "/usr/local/lib/python3.7/dist-packages/seaborn/_decorators.py:43: FutureWarning: Pass the following variable as a keyword arg: x. From version 0.12, the only valid positional argument will be `data`, and passing other arguments without an explicit keyword will result in an error or misinterpretation.\n",
            "  FutureWarning\n",
            "/usr/local/lib/python3.7/dist-packages/seaborn/_decorators.py:43: FutureWarning: Pass the following variable as a keyword arg: x. From version 0.12, the only valid positional argument will be `data`, and passing other arguments without an explicit keyword will result in an error or misinterpretation.\n",
            "  FutureWarning\n",
            "/usr/local/lib/python3.7/dist-packages/seaborn/_decorators.py:43: FutureWarning: Pass the following variable as a keyword arg: x. From version 0.12, the only valid positional argument will be `data`, and passing other arguments without an explicit keyword will result in an error or misinterpretation.\n",
            "  FutureWarning\n",
            "/usr/local/lib/python3.7/dist-packages/seaborn/_decorators.py:43: FutureWarning: Pass the following variable as a keyword arg: x. From version 0.12, the only valid positional argument will be `data`, and passing other arguments without an explicit keyword will result in an error or misinterpretation.\n",
            "  FutureWarning\n",
            "/usr/local/lib/python3.7/dist-packages/seaborn/_decorators.py:43: FutureWarning: Pass the following variable as a keyword arg: x. From version 0.12, the only valid positional argument will be `data`, and passing other arguments without an explicit keyword will result in an error or misinterpretation.\n",
            "  FutureWarning\n",
            "/usr/local/lib/python3.7/dist-packages/seaborn/_decorators.py:43: FutureWarning: Pass the following variable as a keyword arg: x. From version 0.12, the only valid positional argument will be `data`, and passing other arguments without an explicit keyword will result in an error or misinterpretation.\n",
            "  FutureWarning\n",
            "/usr/local/lib/python3.7/dist-packages/seaborn/_decorators.py:43: FutureWarning: Pass the following variable as a keyword arg: x. From version 0.12, the only valid positional argument will be `data`, and passing other arguments without an explicit keyword will result in an error or misinterpretation.\n",
            "  FutureWarning\n",
            "/usr/local/lib/python3.7/dist-packages/seaborn/_decorators.py:43: FutureWarning: Pass the following variable as a keyword arg: x. From version 0.12, the only valid positional argument will be `data`, and passing other arguments without an explicit keyword will result in an error or misinterpretation.\n",
            "  FutureWarning\n"
          ],
          "name": "stderr"
        },
        {
          "output_type": "display_data",
          "data": {
            "image/png": "[encoded data removed]",
            "text/plain": [
              "<Figure size 1080x432 with 10 Axes>"
            ]
          },
          "metadata": {
            "tags": [],
            "needs_background": "light"
          }
        }
      ]
    },
    {
      "cell_type": "code",
      "metadata": {
        "colab": {
          "base_uri": "https://localhost:8080/",
          "height": 362
        },
        "id": "xssw9hd19Z63",
        "outputId": "6b414039-5513-4bd4-cfd6-bae5a20ebb34"
      },
      "source": [
        "plt.figure(figsize =(15,6))\n",
        "count = 1\n",
        "for i in numnames:\n",
        "  plt.subplot(2,5,count)\n",
        "  sns.kdeplot(df.loc[:,i])\n",
        "  count = count+1"
      ],
      "execution_count": 45,
      "outputs": [
        {
          "output_type": "display_data",
          "data": {
            "image/png": "[encoded data removed]",
            "text/plain": [
              "<Figure size 1080x432 with 10 Axes>"
            ]
          },
          "metadata": {
            "tags": [],
            "needs_background": "light"
          }
        }
      ]
    },
    {
      "cell_type": "code",
      "metadata": {
        "colab": {
          "base_uri": "https://localhost:8080/",
          "height": 522
        },
        "id": "i6FJ8tCz9Z2m",
        "outputId": "4a69a8bf-a197-4751-ae7d-e812ec376436"
      },
      "source": [
        "plt.figure(figsize=(15,10))\n",
        "sns.boxplot(df.Calories,df.Beverage)"
      ],
      "execution_count": 47,
      "outputs": [
        {
          "output_type": "stream",
          "text": [
            "/usr/local/lib/python3.7/dist-packages/seaborn/_decorators.py:43: FutureWarning: Pass the following variables as keyword args: x, y. From version 0.12, the only valid positional argument will be `data`, and passing other arguments without an explicit keyword will result in an error or misinterpretation.\n",
            "  FutureWarning\n"
          ],
          "name": "stderr"
        },
        {
          "output_type": "execute_result",
          "data": {
            "text/plain": [
              "<matplotlib.axes._subplots.AxesSubplot at 0x7f44426e20d0>"
            ]
          },
          "metadata": {
            "tags": []
          },
          "execution_count": 47
        },
        {
          "output_type": "display_data",
          "data": {
            "image/png": "[encoded data removed]",
            "text/plain": [
              "<Figure size 1080x720 with 1 Axes>"
            ]
          },
          "metadata": {
            "tags": [],
            "needs_background": "light"
          }
        }
      ]
    },
    {
      "cell_type": "code",
      "metadata": {
        "colab": {
          "base_uri": "https://localhost:8080/",
          "height": 563
        },
        "id": "SBoMLw5XCQk8",
        "outputId": "c6be961b-6714-4795-caa1-3cbe2030a5df"
      },
      "source": [
        "plt.figure(figsize=(15,10))\n",
        "sns.boxplot(df.Calories,df.Category)"
      ],
      "execution_count": 48,
      "outputs": [
        {
          "output_type": "stream",
          "text": [
            "/usr/local/lib/python3.7/dist-packages/seaborn/_decorators.py:43: FutureWarning: Pass the following variables as keyword args: x, y. From version 0.12, the only valid positional argument will be `data`, and passing other arguments without an explicit keyword will result in an error or misinterpretation.\n",
            "  FutureWarning\n"
          ],
          "name": "stderr"
        },
        {
          "output_type": "execute_result",
          "data": {
            "text/plain": [
              "<matplotlib.axes._subplots.AxesSubplot at 0x7f44426e28d0>"
            ]
          },
          "metadata": {
            "tags": []
          },
          "execution_count": 48
        },
        {
          "output_type": "display_data",
          "data": {
            "image/png": "[encoded data removed]",
            "text/plain": [
              "<Figure size 1080x720 with 1 Axes>"
            ]
          },
          "metadata": {
            "tags": [],
            "needs_background": "light"
          }
        }
      ]
    },
    {
      "cell_type": "code",
      "metadata": {
        "colab": {
          "base_uri": "https://localhost:8080/",
          "height": 642
        },
        "id": "HDJUNjpMCQhY",
        "outputId": "90da4748-3736-41c4-9f01-c89eb0e02380"
      },
      "source": [
        "plt.figure(figsize=(15,10))\n",
        "sns.boxplot(df.Size,df.Calories)"
      ],
      "execution_count": 50,
      "outputs": [
        {
          "output_type": "stream",
          "text": [
            "/usr/local/lib/python3.7/dist-packages/seaborn/_decorators.py:43: FutureWarning: Pass the following variables as keyword args: x, y. From version 0.12, the only valid positional argument will be `data`, and passing other arguments without an explicit keyword will result in an error or misinterpretation.\n",
            "  FutureWarning\n"
          ],
          "name": "stderr"
        },
        {
          "output_type": "execute_result",
          "data": {
            "text/plain": [
              "<matplotlib.axes._subplots.AxesSubplot at 0x7f4442e36b90>"
            ]
          },
          "metadata": {
            "tags": []
          },
          "execution_count": 50
        },
        {
          "output_type": "display_data",
          "data": {
            "image/png": "[encoded data removed]",
            "text/plain": [
              "<Figure size 1080x720 with 1 Axes>"
            ]
          },
          "metadata": {
            "tags": [],
            "needs_background": "light"
          }
        }
      ]
    },
    {
      "cell_type": "code",
      "metadata": {
        "colab": {
          "base_uri": "https://localhost:8080/"
        },
        "id": "HK_3XKFwDFYQ",
        "outputId": "af9cd1fa-2292-4d61-d19c-d35b9fd65397"
      },
      "source": [
        "df.Size.value_counts()"
      ],
      "execution_count": 56,
      "outputs": [
        {
          "output_type": "execute_result",
          "data": {
            "text/plain": [
              "Grande    72\n",
              "Venti     63\n",
              "Tall      63\n",
              "Short     38\n",
              "Double     1\n",
              "Single     1\n",
              "Name: Size, dtype: int64"
            ]
          },
          "metadata": {
            "tags": []
          },
          "execution_count": 56
        }
      ]
    },
    {
      "cell_type": "code",
      "metadata": {
        "colab": {
          "base_uri": "https://localhost:8080/"
        },
        "id": "OgArtY1UDFUg",
        "outputId": "d01785dc-ca30-4476-98ae-c100822dd356"
      },
      "source": [
        "df.Milk.value_counts()"
      ],
      "execution_count": 55,
      "outputs": [
        {
          "output_type": "execute_result",
          "data": {
            "text/plain": [
              "Nonfat Milk    81\n",
              "Soymilk        65\n",
              "2% Milk        50\n",
              "None           27\n",
              "Whole Milk     15\n",
              "Name: Milk, dtype: int64"
            ]
          },
          "metadata": {
            "tags": []
          },
          "execution_count": 55
        }
      ]
    },
    {
      "cell_type": "code",
      "metadata": {
        "colab": {
          "base_uri": "https://localhost:8080/"
        },
        "id": "qxoaDeLbDFRg",
        "outputId": "00506abf-47e8-4aab-cdcd-409b03f2639b"
      },
      "source": [
        "df.Beverage.value_counts()"
      ],
      "execution_count": 58,
      "outputs": [
        {
          "output_type": "execute_result",
          "data": {
            "text/plain": [
              "Hot Chocolate (Without Whipped Cream)                 12\n",
              "Cappuccino                                            12\n",
              "Caffe Latte                                           12\n",
              "Tazo Chai Tea Latte                                   12\n",
              "Vanilla Latte (Or Other Flavoured Latte)              12\n",
              "Tazo Full-Leaf Red Tea Latte (Vanilla Rooibos)        12\n",
              "Tazo Green Tea Latte                                  12\n",
              "Tazo Full-Leaf Tea Latte                              12\n",
              "Caramel Macchiato                                     12\n",
              "White Chocolate Mocha (Without Whipped Cream)         12\n",
              "Caffe Mocha (Without Whipped Cream)                   12\n",
              "Coffee                                                12\n",
              "Java Chip (Without Whipped Cream)                      9\n",
              "Strawberries & Creme (Without Whipped Cream)           9\n",
              "Mocha (Without Whipped Cream)                          9\n",
              "Caramel (Without Whipped Cream)                        9\n",
              "Iced Brewed Coffee (With Milk & Classic Syrup)         9\n",
              "Skinny Latte (Any Flavour)                             4\n",
              "Caramel Apple Spice (Without Whipped Cream)            4\n",
              "Tazo Tea                                               4\n",
              "Brewed Coffee                                          4\n",
              "Caffe Americano                                        4\n",
              "Orange Mango Banana Smoothie                           3\n",
              "Shaken Iced Tazo Tea Lemonade (With Classic Syrup)     3\n",
              "Mocha                                                  3\n",
              "Caramel                                                3\n",
              "Java Chip                                              3\n",
              "Shaken Iced Tazo Tea (With Classic Syrup)              3\n",
              "Iced Brewed Coffee (With Classic Syrup)                3\n",
              "Banana Chocolate Smoothie                              3\n",
              "Strawberry Banana Smoothie                             3\n",
              "Espresso                                               2\n",
              "Name: Beverage, dtype: int64"
            ]
          },
          "metadata": {
            "tags": []
          },
          "execution_count": 58
        }
      ]
    },
    {
      "cell_type": "code",
      "metadata": {
        "colab": {
          "base_uri": "https://localhost:8080/",
          "height": 600
        },
        "id": "s0Ukode-CQeP",
        "outputId": "4047dba2-9c3c-448d-e32d-cdc51d168bae"
      },
      "source": [
        "df.groupby('Category').mean().sort_values('Calories', ascending=False)"
      ],
      "execution_count": 59,
      "outputs": [
        {
          "output_type": "execute_result",
          "data": {
            "text/html": [
              "<div>\n",
              "<style scoped>\n",
              "    .dataframe tbody tr th:only-of-type {\n",
              "        vertical-align: middle;\n",
              "    }\n",
              "\n",
              "    .dataframe tbody tr th {\n",
              "        vertical-align: top;\n",
              "    }\n",
              "\n",
              "    .dataframe thead th {\n",
              "        text-align: right;\n",
              "    }\n",
              "</style>\n",
              "<table border=\"1\" class=\"dataframe\">\n",
              "  <thead>\n",
              "    <tr style=\"text-align: right;\">\n",
              "      <th></th>\n",
              "      <th>Calories</th>\n",
              "      <th>TotalFat</th>\n",
              "      <th>TransFat</th>\n",
              "      <th>SaturatedFat</th>\n",
              "      <th>Sodium</th>\n",
              "      <th>TotalCarb</th>\n",
              "      <th>Cholesterol</th>\n",
              "      <th>DietaryFibre</th>\n",
              "      <th>Sugars</th>\n",
              "      <th>Protein</th>\n",
              "    </tr>\n",
              "    <tr>\n",
              "      <th>Category</th>\n",
              "      <th></th>\n",
              "      <th></th>\n",
              "      <th></th>\n",
              "      <th></th>\n",
              "      <th></th>\n",
              "      <th></th>\n",
              "      <th></th>\n",
              "      <th></th>\n",
              "      <th></th>\n",
              "      <th></th>\n",
              "    </tr>\n",
              "  </thead>\n",
              "  <tbody>\n",
              "    <tr>\n",
              "      <th>Smoothies</th>\n",
              "      <td>282.222222</td>\n",
              "      <td>2.333333</td>\n",
              "      <td>0.933333</td>\n",
              "      <td>0.011111</td>\n",
              "      <td>6.111111</td>\n",
              "      <td>132.777778</td>\n",
              "      <td>54.555556</td>\n",
              "      <td>6.777778</td>\n",
              "      <td>36.777778</td>\n",
              "      <td>17.111111</td>\n",
              "    </tr>\n",
              "    <tr>\n",
              "      <th>Frappuccino Blended Coffee</th>\n",
              "      <td>276.944444</td>\n",
              "      <td>3.002778</td>\n",
              "      <td>1.700000</td>\n",
              "      <td>0.038889</td>\n",
              "      <td>4.444444</td>\n",
              "      <td>230.277778</td>\n",
              "      <td>59.638889</td>\n",
              "      <td>0.777778</td>\n",
              "      <td>57.083333</td>\n",
              "      <td>4.222222</td>\n",
              "    </tr>\n",
              "    <tr>\n",
              "      <th>Signature Espresso Drinks</th>\n",
              "      <td>250.000000</td>\n",
              "      <td>5.275000</td>\n",
              "      <td>2.712500</td>\n",
              "      <td>0.050000</td>\n",
              "      <td>9.625000</td>\n",
              "      <td>138.250000</td>\n",
              "      <td>42.775000</td>\n",
              "      <td>0.775000</td>\n",
              "      <td>38.600000</td>\n",
              "      <td>9.875000</td>\n",
              "    </tr>\n",
              "    <tr>\n",
              "      <th>Frappuccino Blended Creme</th>\n",
              "      <td>248.888889</td>\n",
              "      <td>2.244444</td>\n",
              "      <td>0.844444</td>\n",
              "      <td>0.044444</td>\n",
              "      <td>4.444444</td>\n",
              "      <td>193.888889</td>\n",
              "      <td>53.111111</td>\n",
              "      <td>0.333333</td>\n",
              "      <td>51.555556</td>\n",
              "      <td>4.111111</td>\n",
              "    </tr>\n",
              "    <tr>\n",
              "      <th>Tazo Tea Drinks</th>\n",
              "      <td>177.307692</td>\n",
              "      <td>2.540385</td>\n",
              "      <td>0.859615</td>\n",
              "      <td>0.044231</td>\n",
              "      <td>7.211538</td>\n",
              "      <td>89.903846</td>\n",
              "      <td>31.692308</td>\n",
              "      <td>0.519231</td>\n",
              "      <td>30.307692</td>\n",
              "      <td>6.807692</td>\n",
              "    </tr>\n",
              "    <tr>\n",
              "      <th>Frappuccino Light Blended Coffee</th>\n",
              "      <td>162.500000</td>\n",
              "      <td>1.258333</td>\n",
              "      <td>0.900000</td>\n",
              "      <td>0.000000</td>\n",
              "      <td>1.666667</td>\n",
              "      <td>217.500000</td>\n",
              "      <td>34.500000</td>\n",
              "      <td>0.666667</td>\n",
              "      <td>32.416667</td>\n",
              "      <td>4.250000</td>\n",
              "    </tr>\n",
              "    <tr>\n",
              "      <th>Classic Espresso Drinks</th>\n",
              "      <td>140.172414</td>\n",
              "      <td>3.127586</td>\n",
              "      <td>1.210345</td>\n",
              "      <td>0.046552</td>\n",
              "      <td>8.103448</td>\n",
              "      <td>104.672414</td>\n",
              "      <td>20.327586</td>\n",
              "      <td>0.620690</td>\n",
              "      <td>16.965517</td>\n",
              "      <td>8.686207</td>\n",
              "    </tr>\n",
              "    <tr>\n",
              "      <th>Shaken Iced Beverages</th>\n",
              "      <td>114.444444</td>\n",
              "      <td>0.472222</td>\n",
              "      <td>0.138889</td>\n",
              "      <td>0.005556</td>\n",
              "      <td>1.111111</td>\n",
              "      <td>18.277778</td>\n",
              "      <td>26.166667</td>\n",
              "      <td>0.000000</td>\n",
              "      <td>26.000000</td>\n",
              "      <td>1.344444</td>\n",
              "    </tr>\n",
              "    <tr>\n",
              "      <th>Coffee</th>\n",
              "      <td>4.250000</td>\n",
              "      <td>0.100000</td>\n",
              "      <td>0.000000</td>\n",
              "      <td>0.000000</td>\n",
              "      <td>0.000000</td>\n",
              "      <td>8.750000</td>\n",
              "      <td>0.000000</td>\n",
              "      <td>0.000000</td>\n",
              "      <td>0.000000</td>\n",
              "      <td>0.700000</td>\n",
              "    </tr>\n",
              "  </tbody>\n",
              "</table>\n",
              "</div>"
            ],
            "text/plain": [
              "                                    Calories  TotalFat  ...     Sugars    Protein\n",
              "Category                                                ...                      \n",
              "Smoothies                         282.222222  2.333333  ...  36.777778  17.111111\n",
              "Frappuccino Blended Coffee        276.944444  3.002778  ...  57.083333   4.222222\n",
              "Signature Espresso Drinks         250.000000  5.275000  ...  38.600000   9.875000\n",
              "Frappuccino Blended Creme         248.888889  2.244444  ...  51.555556   4.111111\n",
              "Tazo Tea Drinks                   177.307692  2.540385  ...  30.307692   6.807692\n",
              "Frappuccino Light Blended Coffee  162.500000  1.258333  ...  32.416667   4.250000\n",
              "Classic Espresso Drinks           140.172414  3.127586  ...  16.965517   8.686207\n",
              "Shaken Iced Beverages             114.444444  0.472222  ...  26.000000   1.344444\n",
              "Coffee                              4.250000  0.100000  ...   0.000000   0.700000\n",
              "\n",
              "[9 rows x 10 columns]"
            ]
          },
          "metadata": {
            "tags": []
          },
          "execution_count": 59
        }
      ]
    },
    {
      "cell_type": "code",
      "metadata": {
        "colab": {
          "base_uri": "https://localhost:8080/",
          "height": 600
        },
        "id": "DuM1Kh6nCQbr",
        "outputId": "cbf29bda-089e-4f27-8c5c-2625d5618220"
      },
      "source": [
        "df.groupby('Category').mean().sort_values('TotalFat', ascending=False)"
      ],
      "execution_count": 61,
      "outputs": [
        {
          "output_type": "execute_result",
          "data": {
            "text/html": [
              "<div>\n",
              "<style scoped>\n",
              "    .dataframe tbody tr th:only-of-type {\n",
              "        vertical-align: middle;\n",
              "    }\n",
              "\n",
              "    .dataframe tbody tr th {\n",
              "        vertical-align: top;\n",
              "    }\n",
              "\n",
              "    .dataframe thead th {\n",
              "        text-align: right;\n",
              "    }\n",
              "</style>\n",
              "<table border=\"1\" class=\"dataframe\">\n",
              "  <thead>\n",
              "    <tr style=\"text-align: right;\">\n",
              "      <th></th>\n",
              "      <th>Calories</th>\n",
              "      <th>TotalFat</th>\n",
              "      <th>TransFat</th>\n",
              "      <th>SaturatedFat</th>\n",
              "      <th>Sodium</th>\n",
              "      <th>TotalCarb</th>\n",
              "      <th>Cholesterol</th>\n",
              "      <th>DietaryFibre</th>\n",
              "      <th>Sugars</th>\n",
              "      <th>Protein</th>\n",
              "    </tr>\n",
              "    <tr>\n",
              "      <th>Category</th>\n",
              "      <th></th>\n",
              "      <th></th>\n",
              "      <th></th>\n",
              "      <th></th>\n",
              "      <th></th>\n",
              "      <th></th>\n",
              "      <th></th>\n",
              "      <th></th>\n",
              "      <th></th>\n",
              "      <th></th>\n",
              "    </tr>\n",
              "  </thead>\n",
              "  <tbody>\n",
              "    <tr>\n",
              "      <th>Signature Espresso Drinks</th>\n",
              "      <td>250.000000</td>\n",
              "      <td>5.275000</td>\n",
              "      <td>2.712500</td>\n",
              "      <td>0.050000</td>\n",
              "      <td>9.625000</td>\n",
              "      <td>138.250000</td>\n",
              "      <td>42.775000</td>\n",
              "      <td>0.775000</td>\n",
              "      <td>38.600000</td>\n",
              "      <td>9.875000</td>\n",
              "    </tr>\n",
              "    <tr>\n",
              "      <th>Classic Espresso Drinks</th>\n",
              "      <td>140.172414</td>\n",
              "      <td>3.127586</td>\n",
              "      <td>1.210345</td>\n",
              "      <td>0.046552</td>\n",
              "      <td>8.103448</td>\n",
              "      <td>104.672414</td>\n",
              "      <td>20.327586</td>\n",
              "      <td>0.620690</td>\n",
              "      <td>16.965517</td>\n",
              "      <td>8.686207</td>\n",
              "    </tr>\n",
              "    <tr>\n",
              "      <th>Frappuccino Blended Coffee</th>\n",
              "      <td>276.944444</td>\n",
              "      <td>3.002778</td>\n",
              "      <td>1.700000</td>\n",
              "      <td>0.038889</td>\n",
              "      <td>4.444444</td>\n",
              "      <td>230.277778</td>\n",
              "      <td>59.638889</td>\n",
              "      <td>0.777778</td>\n",
              "      <td>57.083333</td>\n",
              "      <td>4.222222</td>\n",
              "    </tr>\n",
              "    <tr>\n",
              "      <th>Tazo Tea Drinks</th>\n",
              "      <td>177.307692</td>\n",
              "      <td>2.540385</td>\n",
              "      <td>0.859615</td>\n",
              "      <td>0.044231</td>\n",
              "      <td>7.211538</td>\n",
              "      <td>89.903846</td>\n",
              "      <td>31.692308</td>\n",
              "      <td>0.519231</td>\n",
              "      <td>30.307692</td>\n",
              "      <td>6.807692</td>\n",
              "    </tr>\n",
              "    <tr>\n",
              "      <th>Smoothies</th>\n",
              "      <td>282.222222</td>\n",
              "      <td>2.333333</td>\n",
              "      <td>0.933333</td>\n",
              "      <td>0.011111</td>\n",
              "      <td>6.111111</td>\n",
              "      <td>132.777778</td>\n",
              "      <td>54.555556</td>\n",
              "      <td>6.777778</td>\n",
              "      <td>36.777778</td>\n",
              "      <td>17.111111</td>\n",
              "    </tr>\n",
              "    <tr>\n",
              "      <th>Frappuccino Blended Creme</th>\n",
              "      <td>248.888889</td>\n",
              "      <td>2.244444</td>\n",
              "      <td>0.844444</td>\n",
              "      <td>0.044444</td>\n",
              "      <td>4.444444</td>\n",
              "      <td>193.888889</td>\n",
              "      <td>53.111111</td>\n",
              "      <td>0.333333</td>\n",
              "      <td>51.555556</td>\n",
              "      <td>4.111111</td>\n",
              "    </tr>\n",
              "    <tr>\n",
              "      <th>Frappuccino Light Blended Coffee</th>\n",
              "      <td>162.500000</td>\n",
              "      <td>1.258333</td>\n",
              "      <td>0.900000</td>\n",
              "      <td>0.000000</td>\n",
              "      <td>1.666667</td>\n",
              "      <td>217.500000</td>\n",
              "      <td>34.500000</td>\n",
              "      <td>0.666667</td>\n",
              "      <td>32.416667</td>\n",
              "      <td>4.250000</td>\n",
              "    </tr>\n",
              "    <tr>\n",
              "      <th>Shaken Iced Beverages</th>\n",
              "      <td>114.444444</td>\n",
              "      <td>0.472222</td>\n",
              "      <td>0.138889</td>\n",
              "      <td>0.005556</td>\n",
              "      <td>1.111111</td>\n",
              "      <td>18.277778</td>\n",
              "      <td>26.166667</td>\n",
              "      <td>0.000000</td>\n",
              "      <td>26.000000</td>\n",
              "      <td>1.344444</td>\n",
              "    </tr>\n",
              "    <tr>\n",
              "      <th>Coffee</th>\n",
              "      <td>4.250000</td>\n",
              "      <td>0.100000</td>\n",
              "      <td>0.000000</td>\n",
              "      <td>0.000000</td>\n",
              "      <td>0.000000</td>\n",
              "      <td>8.750000</td>\n",
              "      <td>0.000000</td>\n",
              "      <td>0.000000</td>\n",
              "      <td>0.000000</td>\n",
              "      <td>0.700000</td>\n",
              "    </tr>\n",
              "  </tbody>\n",
              "</table>\n",
              "</div>"
            ],
            "text/plain": [
              "                                    Calories  TotalFat  ...     Sugars    Protein\n",
              "Category                                                ...                      \n",
              "Signature Espresso Drinks         250.000000  5.275000  ...  38.600000   9.875000\n",
              "Classic Espresso Drinks           140.172414  3.127586  ...  16.965517   8.686207\n",
              "Frappuccino Blended Coffee        276.944444  3.002778  ...  57.083333   4.222222\n",
              "Tazo Tea Drinks                   177.307692  2.540385  ...  30.307692   6.807692\n",
              "Smoothies                         282.222222  2.333333  ...  36.777778  17.111111\n",
              "Frappuccino Blended Creme         248.888889  2.244444  ...  51.555556   4.111111\n",
              "Frappuccino Light Blended Coffee  162.500000  1.258333  ...  32.416667   4.250000\n",
              "Shaken Iced Beverages             114.444444  0.472222  ...  26.000000   1.344444\n",
              "Coffee                              4.250000  0.100000  ...   0.000000   0.700000\n",
              "\n",
              "[9 rows x 10 columns]"
            ]
          },
          "metadata": {
            "tags": []
          },
          "execution_count": 61
        }
      ]
    },
    {
      "cell_type": "code",
      "metadata": {
        "colab": {
          "base_uri": "https://localhost:8080/",
          "height": 600
        },
        "id": "4G4nUgAa9Zt3",
        "outputId": "3bfb325c-b75b-41e9-bff3-f6f9cb2c03ac"
      },
      "source": [
        "df.groupby('Category').mean().sort_values('Protein', ascending=False)"
      ],
      "execution_count": 62,
      "outputs": [
        {
          "output_type": "execute_result",
          "data": {
            "text/html": [
              "<div>\n",
              "<style scoped>\n",
              "    .dataframe tbody tr th:only-of-type {\n",
              "        vertical-align: middle;\n",
              "    }\n",
              "\n",
              "    .dataframe tbody tr th {\n",
              "        vertical-align: top;\n",
              "    }\n",
              "\n",
              "    .dataframe thead th {\n",
              "        text-align: right;\n",
              "    }\n",
              "</style>\n",
              "<table border=\"1\" class=\"dataframe\">\n",
              "  <thead>\n",
              "    <tr style=\"text-align: right;\">\n",
              "      <th></th>\n",
              "      <th>Calories</th>\n",
              "      <th>TotalFat</th>\n",
              "      <th>TransFat</th>\n",
              "      <th>SaturatedFat</th>\n",
              "      <th>Sodium</th>\n",
              "      <th>TotalCarb</th>\n",
              "      <th>Cholesterol</th>\n",
              "      <th>DietaryFibre</th>\n",
              "      <th>Sugars</th>\n",
              "      <th>Protein</th>\n",
              "    </tr>\n",
              "    <tr>\n",
              "      <th>Category</th>\n",
              "      <th></th>\n",
              "      <th></th>\n",
              "      <th></th>\n",
              "      <th></th>\n",
              "      <th></th>\n",
              "      <th></th>\n",
              "      <th></th>\n",
              "      <th></th>\n",
              "      <th></th>\n",
              "      <th></th>\n",
              "    </tr>\n",
              "  </thead>\n",
              "  <tbody>\n",
              "    <tr>\n",
              "      <th>Smoothies</th>\n",
              "      <td>282.222222</td>\n",
              "      <td>2.333333</td>\n",
              "      <td>0.933333</td>\n",
              "      <td>0.011111</td>\n",
              "      <td>6.111111</td>\n",
              "      <td>132.777778</td>\n",
              "      <td>54.555556</td>\n",
              "      <td>6.777778</td>\n",
              "      <td>36.777778</td>\n",
              "      <td>17.111111</td>\n",
              "    </tr>\n",
              "    <tr>\n",
              "      <th>Signature Espresso Drinks</th>\n",
              "      <td>250.000000</td>\n",
              "      <td>5.275000</td>\n",
              "      <td>2.712500</td>\n",
              "      <td>0.050000</td>\n",
              "      <td>9.625000</td>\n",
              "      <td>138.250000</td>\n",
              "      <td>42.775000</td>\n",
              "      <td>0.775000</td>\n",
              "      <td>38.600000</td>\n",
              "      <td>9.875000</td>\n",
              "    </tr>\n",
              "    <tr>\n",
              "      <th>Classic Espresso Drinks</th>\n",
              "      <td>140.172414</td>\n",
              "      <td>3.127586</td>\n",
              "      <td>1.210345</td>\n",
              "      <td>0.046552</td>\n",
              "      <td>8.103448</td>\n",
              "      <td>104.672414</td>\n",
              "      <td>20.327586</td>\n",
              "      <td>0.620690</td>\n",
              "      <td>16.965517</td>\n",
              "      <td>8.686207</td>\n",
              "    </tr>\n",
              "    <tr>\n",
              "      <th>Tazo Tea Drinks</th>\n",
              "      <td>177.307692</td>\n",
              "      <td>2.540385</td>\n",
              "      <td>0.859615</td>\n",
              "      <td>0.044231</td>\n",
              "      <td>7.211538</td>\n",
              "      <td>89.903846</td>\n",
              "      <td>31.692308</td>\n",
              "      <td>0.519231</td>\n",
              "      <td>30.307692</td>\n",
              "      <td>6.807692</td>\n",
              "    </tr>\n",
              "    <tr>\n",
              "      <th>Frappuccino Light Blended Coffee</th>\n",
              "      <td>162.500000</td>\n",
              "      <td>1.258333</td>\n",
              "      <td>0.900000</td>\n",
              "      <td>0.000000</td>\n",
              "      <td>1.666667</td>\n",
              "      <td>217.500000</td>\n",
              "      <td>34.500000</td>\n",
              "      <td>0.666667</td>\n",
              "      <td>32.416667</td>\n",
              "      <td>4.250000</td>\n",
              "    </tr>\n",
              "    <tr>\n",
              "      <th>Frappuccino Blended Coffee</th>\n",
              "      <td>276.944444</td>\n",
              "      <td>3.002778</td>\n",
              "      <td>1.700000</td>\n",
              "      <td>0.038889</td>\n",
              "      <td>4.444444</td>\n",
              "      <td>230.277778</td>\n",
              "      <td>59.638889</td>\n",
              "      <td>0.777778</td>\n",
              "      <td>57.083333</td>\n",
              "      <td>4.222222</td>\n",
              "    </tr>\n",
              "    <tr>\n",
              "      <th>Frappuccino Blended Creme</th>\n",
              "      <td>248.888889</td>\n",
              "      <td>2.244444</td>\n",
              "      <td>0.844444</td>\n",
              "      <td>0.044444</td>\n",
              "      <td>4.444444</td>\n",
              "      <td>193.888889</td>\n",
              "      <td>53.111111</td>\n",
              "      <td>0.333333</td>\n",
              "      <td>51.555556</td>\n",
              "      <td>4.111111</td>\n",
              "    </tr>\n",
              "    <tr>\n",
              "      <th>Shaken Iced Beverages</th>\n",
              "      <td>114.444444</td>\n",
              "      <td>0.472222</td>\n",
              "      <td>0.138889</td>\n",
              "      <td>0.005556</td>\n",
              "      <td>1.111111</td>\n",
              "      <td>18.277778</td>\n",
              "      <td>26.166667</td>\n",
              "      <td>0.000000</td>\n",
              "      <td>26.000000</td>\n",
              "      <td>1.344444</td>\n",
              "    </tr>\n",
              "    <tr>\n",
              "      <th>Coffee</th>\n",
              "      <td>4.250000</td>\n",
              "      <td>0.100000</td>\n",
              "      <td>0.000000</td>\n",
              "      <td>0.000000</td>\n",
              "      <td>0.000000</td>\n",
              "      <td>8.750000</td>\n",
              "      <td>0.000000</td>\n",
              "      <td>0.000000</td>\n",
              "      <td>0.000000</td>\n",
              "      <td>0.700000</td>\n",
              "    </tr>\n",
              "  </tbody>\n",
              "</table>\n",
              "</div>"
            ],
            "text/plain": [
              "                                    Calories  TotalFat  ...     Sugars    Protein\n",
              "Category                                                ...                      \n",
              "Smoothies                         282.222222  2.333333  ...  36.777778  17.111111\n",
              "Signature Espresso Drinks         250.000000  5.275000  ...  38.600000   9.875000\n",
              "Classic Espresso Drinks           140.172414  3.127586  ...  16.965517   8.686207\n",
              "Tazo Tea Drinks                   177.307692  2.540385  ...  30.307692   6.807692\n",
              "Frappuccino Light Blended Coffee  162.500000  1.258333  ...  32.416667   4.250000\n",
              "Frappuccino Blended Coffee        276.944444  3.002778  ...  57.083333   4.222222\n",
              "Frappuccino Blended Creme         248.888889  2.244444  ...  51.555556   4.111111\n",
              "Shaken Iced Beverages             114.444444  0.472222  ...  26.000000   1.344444\n",
              "Coffee                              4.250000  0.100000  ...   0.000000   0.700000\n",
              "\n",
              "[9 rows x 10 columns]"
            ]
          },
          "metadata": {
            "tags": []
          },
          "execution_count": 62
        }
      ]
    },
    {
      "cell_type": "code",
      "metadata": {
        "colab": {
          "base_uri": "https://localhost:8080/",
          "height": 359
        },
        "id": "pWCH7ZdTDxCn",
        "outputId": "ff0e7069-9578-4ee2-aa5e-e9427fe6755f"
      },
      "source": [
        "pd.pivot_table(data = df, values= 'Calories', index = 'Category', columns = 'Milk', aggfunc = 'mean')"
      ],
      "execution_count": 64,
      "outputs": [
        {
          "output_type": "execute_result",
          "data": {
            "text/html": [
              "<div>\n",
              "<style scoped>\n",
              "    .dataframe tbody tr th:only-of-type {\n",
              "        vertical-align: middle;\n",
              "    }\n",
              "\n",
              "    .dataframe tbody tr th {\n",
              "        vertical-align: top;\n",
              "    }\n",
              "\n",
              "    .dataframe thead th {\n",
              "        text-align: right;\n",
              "    }\n",
              "</style>\n",
              "<table border=\"1\" class=\"dataframe\">\n",
              "  <thead>\n",
              "    <tr style=\"text-align: right;\">\n",
              "      <th>Milk</th>\n",
              "      <th>2% Milk</th>\n",
              "      <th>None</th>\n",
              "      <th>Nonfat Milk</th>\n",
              "      <th>Soymilk</th>\n",
              "      <th>Whole Milk</th>\n",
              "    </tr>\n",
              "    <tr>\n",
              "      <th>Category</th>\n",
              "      <th></th>\n",
              "      <th></th>\n",
              "      <th></th>\n",
              "      <th></th>\n",
              "      <th></th>\n",
              "    </tr>\n",
              "  </thead>\n",
              "  <tbody>\n",
              "    <tr>\n",
              "      <th>Classic Espresso Drinks</th>\n",
              "      <td>184.375000</td>\n",
              "      <td>11.666667</td>\n",
              "      <td>134.500000</td>\n",
              "      <td>151.250000</td>\n",
              "      <td>NaN</td>\n",
              "    </tr>\n",
              "    <tr>\n",
              "      <th>Coffee</th>\n",
              "      <td>NaN</td>\n",
              "      <td>4.250000</td>\n",
              "      <td>NaN</td>\n",
              "      <td>NaN</td>\n",
              "      <td>NaN</td>\n",
              "    </tr>\n",
              "    <tr>\n",
              "      <th>Frappuccino Blended Coffee</th>\n",
              "      <td>NaN</td>\n",
              "      <td>NaN</td>\n",
              "      <td>267.500000</td>\n",
              "      <td>268.333333</td>\n",
              "      <td>295.000000</td>\n",
              "    </tr>\n",
              "    <tr>\n",
              "      <th>Frappuccino Blended Creme</th>\n",
              "      <td>NaN</td>\n",
              "      <td>NaN</td>\n",
              "      <td>236.666667</td>\n",
              "      <td>243.333333</td>\n",
              "      <td>266.666667</td>\n",
              "    </tr>\n",
              "    <tr>\n",
              "      <th>Frappuccino Light Blended Coffee</th>\n",
              "      <td>NaN</td>\n",
              "      <td>NaN</td>\n",
              "      <td>162.500000</td>\n",
              "      <td>NaN</td>\n",
              "      <td>NaN</td>\n",
              "    </tr>\n",
              "    <tr>\n",
              "      <th>Shaken Iced Beverages</th>\n",
              "      <td>130.000000</td>\n",
              "      <td>106.666667</td>\n",
              "      <td>116.666667</td>\n",
              "      <td>120.000000</td>\n",
              "      <td>NaN</td>\n",
              "    </tr>\n",
              "    <tr>\n",
              "      <th>Signature Espresso Drinks</th>\n",
              "      <td>275.833333</td>\n",
              "      <td>247.500000</td>\n",
              "      <td>233.333333</td>\n",
              "      <td>241.666667</td>\n",
              "      <td>NaN</td>\n",
              "    </tr>\n",
              "    <tr>\n",
              "      <th>Smoothies</th>\n",
              "      <td>286.666667</td>\n",
              "      <td>NaN</td>\n",
              "      <td>276.666667</td>\n",
              "      <td>283.333333</td>\n",
              "      <td>NaN</td>\n",
              "    </tr>\n",
              "    <tr>\n",
              "      <th>Tazo Tea Drinks</th>\n",
              "      <td>211.875000</td>\n",
              "      <td>0.000000</td>\n",
              "      <td>175.625000</td>\n",
              "      <td>188.750000</td>\n",
              "      <td>NaN</td>\n",
              "    </tr>\n",
              "  </tbody>\n",
              "</table>\n",
              "</div>"
            ],
            "text/plain": [
              "Milk                                 2% Milk  ...  Whole Milk\n",
              "Category                                      ...            \n",
              "Classic Espresso Drinks           184.375000  ...         NaN\n",
              "Coffee                                   NaN  ...         NaN\n",
              "Frappuccino Blended Coffee               NaN  ...  295.000000\n",
              "Frappuccino Blended Creme                NaN  ...  266.666667\n",
              "Frappuccino Light Blended Coffee         NaN  ...         NaN\n",
              "Shaken Iced Beverages             130.000000  ...         NaN\n",
              "Signature Espresso Drinks         275.833333  ...         NaN\n",
              "Smoothies                         286.666667  ...         NaN\n",
              "Tazo Tea Drinks                   211.875000  ...         NaN\n",
              "\n",
              "[9 rows x 5 columns]"
            ]
          },
          "metadata": {
            "tags": []
          },
          "execution_count": 64
        }
      ]
    },
    {
      "cell_type": "code",
      "metadata": {
        "colab": {
          "base_uri": "https://localhost:8080/",
          "height": 261
        },
        "id": "YsVSpgXdDw3A",
        "outputId": "b43104e4-172b-487a-fcb8-41b7786308e6"
      },
      "source": [
        "df[df.Category == 'Coffee']"
      ],
      "execution_count": 65,
      "outputs": [
        {
          "output_type": "execute_result",
          "data": {
            "text/html": [
              "<div>\n",
              "<style scoped>\n",
              "    .dataframe tbody tr th:only-of-type {\n",
              "        vertical-align: middle;\n",
              "    }\n",
              "\n",
              "    .dataframe tbody tr th {\n",
              "        vertical-align: top;\n",
              "    }\n",
              "\n",
              "    .dataframe thead th {\n",
              "        text-align: right;\n",
              "    }\n",
              "</style>\n",
              "<table border=\"1\" class=\"dataframe\">\n",
              "  <thead>\n",
              "    <tr style=\"text-align: right;\">\n",
              "      <th></th>\n",
              "      <th>Category</th>\n",
              "      <th>Beverage</th>\n",
              "      <th>Size</th>\n",
              "      <th>Milk</th>\n",
              "      <th>Calories</th>\n",
              "      <th>TotalFat</th>\n",
              "      <th>TransFat</th>\n",
              "      <th>SaturatedFat</th>\n",
              "      <th>Sodium</th>\n",
              "      <th>TotalCarb</th>\n",
              "      <th>Cholesterol</th>\n",
              "      <th>DietaryFibre</th>\n",
              "      <th>Sugars</th>\n",
              "      <th>Protein</th>\n",
              "      <th>Calorie_cat</th>\n",
              "    </tr>\n",
              "  </thead>\n",
              "  <tbody>\n",
              "    <tr>\n",
              "      <th>0</th>\n",
              "      <td>Coffee</td>\n",
              "      <td>Brewed Coffee</td>\n",
              "      <td>Short</td>\n",
              "      <td>None</td>\n",
              "      <td>3</td>\n",
              "      <td>0.1</td>\n",
              "      <td>0.0</td>\n",
              "      <td>0.0</td>\n",
              "      <td>0</td>\n",
              "      <td>5</td>\n",
              "      <td>0</td>\n",
              "      <td>0</td>\n",
              "      <td>0</td>\n",
              "      <td>0.3</td>\n",
              "      <td>Low Calorie</td>\n",
              "    </tr>\n",
              "    <tr>\n",
              "      <th>1</th>\n",
              "      <td>Coffee</td>\n",
              "      <td>Brewed Coffee</td>\n",
              "      <td>Tall</td>\n",
              "      <td>None</td>\n",
              "      <td>4</td>\n",
              "      <td>0.1</td>\n",
              "      <td>0.0</td>\n",
              "      <td>0.0</td>\n",
              "      <td>0</td>\n",
              "      <td>10</td>\n",
              "      <td>0</td>\n",
              "      <td>0</td>\n",
              "      <td>0</td>\n",
              "      <td>0.5</td>\n",
              "      <td>Low Calorie</td>\n",
              "    </tr>\n",
              "    <tr>\n",
              "      <th>2</th>\n",
              "      <td>Coffee</td>\n",
              "      <td>Brewed Coffee</td>\n",
              "      <td>Grande</td>\n",
              "      <td>None</td>\n",
              "      <td>5</td>\n",
              "      <td>0.1</td>\n",
              "      <td>0.0</td>\n",
              "      <td>0.0</td>\n",
              "      <td>0</td>\n",
              "      <td>10</td>\n",
              "      <td>0</td>\n",
              "      <td>0</td>\n",
              "      <td>0</td>\n",
              "      <td>1.0</td>\n",
              "      <td>Low Calorie</td>\n",
              "    </tr>\n",
              "    <tr>\n",
              "      <th>3</th>\n",
              "      <td>Coffee</td>\n",
              "      <td>Brewed Coffee</td>\n",
              "      <td>Venti</td>\n",
              "      <td>None</td>\n",
              "      <td>5</td>\n",
              "      <td>0.1</td>\n",
              "      <td>0.0</td>\n",
              "      <td>0.0</td>\n",
              "      <td>0</td>\n",
              "      <td>10</td>\n",
              "      <td>0</td>\n",
              "      <td>0</td>\n",
              "      <td>0</td>\n",
              "      <td>1.0</td>\n",
              "      <td>Low Calorie</td>\n",
              "    </tr>\n",
              "  </tbody>\n",
              "</table>\n",
              "</div>"
            ],
            "text/plain": [
              "  Category       Beverage    Size  ... Sugars  Protein  Calorie_cat\n",
              "0   Coffee  Brewed Coffee   Short  ...      0      0.3  Low Calorie\n",
              "1   Coffee  Brewed Coffee    Tall  ...      0      0.5  Low Calorie\n",
              "2   Coffee  Brewed Coffee  Grande  ...      0      1.0  Low Calorie\n",
              "3   Coffee  Brewed Coffee   Venti  ...      0      1.0  Low Calorie\n",
              "\n",
              "[4 rows x 15 columns]"
            ]
          },
          "metadata": {
            "tags": []
          },
          "execution_count": 65
        }
      ]
    },
    {
      "cell_type": "markdown",
      "metadata": {
        "id": "BDx-nb2oZ6VR"
      },
      "source": [
        "**Part 2 Hypothesis Testing**"
      ]
    },
    {
      "cell_type": "code",
      "metadata": {
        "colab": {
          "base_uri": "https://localhost:8080/",
          "height": 350
        },
        "id": "NC-ciSRKEeSz",
        "outputId": "0268d495-c6f2-4b6a-b8ea-519f64e9c3a3"
      },
      "source": [
        "sns.boxplot(df.Calories, df.Milk)"
      ],
      "execution_count": 66,
      "outputs": [
        {
          "output_type": "stream",
          "text": [
            "/usr/local/lib/python3.7/dist-packages/seaborn/_decorators.py:43: FutureWarning: Pass the following variables as keyword args: x, y. From version 0.12, the only valid positional argument will be `data`, and passing other arguments without an explicit keyword will result in an error or misinterpretation.\n",
            "  FutureWarning\n"
          ],
          "name": "stderr"
        },
        {
          "output_type": "execute_result",
          "data": {
            "text/plain": [
              "<matplotlib.axes._subplots.AxesSubplot at 0x7f443ff1d7d0>"
            ]
          },
          "metadata": {
            "tags": []
          },
          "execution_count": 66
        },
        {
          "output_type": "display_data",
          "data": {
            "image/png": "[encoded data removed]",
            "text/plain": [
              "<Figure size 432x288 with 1 Axes>"
            ]
          },
          "metadata": {
            "tags": [],
            "needs_background": "light"
          }
        }
      ]
    },
    {
      "cell_type": "code",
      "metadata": {
        "colab": {
          "base_uri": "https://localhost:8080/"
        },
        "id": "lzztb0nGZIE3",
        "outputId": "e6595a01-faf1-4fee-8479-a90ad819c051"
      },
      "source": [
        "formula = 'Calories ~C(Milk)'\n",
        "model = ols(formula,df).fit()\n",
        "anov_table = anova_lm(model)\n",
        "print(anov_table)"
      ],
      "execution_count": 31,
      "outputs": [
        {
          "output_type": "stream",
          "text": [
            "             df        sum_sq        mean_sq          F        PR(>F)\n",
            "C(Milk)     4.0  5.584364e+05  139609.099632  16.357517  7.975236e-12\n",
            "Residual  233.0  1.988622e+06    8534.858769        NaN           NaN\n"
          ],
          "name": "stdout"
        }
      ]
    },
    {
      "cell_type": "code",
      "metadata": {
        "id": "dSSIVfAz5EO9"
      },
      "source": [
        "#the difference in mean is actually true"
      ],
      "execution_count": 67,
      "outputs": []
    },
    {
      "cell_type": "code",
      "metadata": {
        "colab": {
          "base_uri": "https://localhost:8080/"
        },
        "id": "-Xq5VZ4HFC7a",
        "outputId": "932f9b30-3e8b-4e4c-9279-6d270f4a5b16"
      },
      "source": [
        "dfnew = df[df.Milk != 'None']\n",
        "dfnew.shape, df.shape"
      ],
      "execution_count": 70,
      "outputs": [
        {
          "output_type": "execute_result",
          "data": {
            "text/plain": [
              "((211, 15), (238, 15))"
            ]
          },
          "metadata": {
            "tags": []
          },
          "execution_count": 70
        }
      ]
    },
    {
      "cell_type": "code",
      "metadata": {
        "colab": {
          "base_uri": "https://localhost:8080/",
          "height": 350
        },
        "id": "L_CsIWvYFJ8E",
        "outputId": "6d60d011-64fb-4a0a-e697-b28942b0ba25"
      },
      "source": [
        "sns.boxplot(dfnew.Calories,dfnew.Milk)"
      ],
      "execution_count": 71,
      "outputs": [
        {
          "output_type": "stream",
          "text": [
            "/usr/local/lib/python3.7/dist-packages/seaborn/_decorators.py:43: FutureWarning: Pass the following variables as keyword args: x, y. From version 0.12, the only valid positional argument will be `data`, and passing other arguments without an explicit keyword will result in an error or misinterpretation.\n",
            "  FutureWarning\n"
          ],
          "name": "stderr"
        },
        {
          "output_type": "execute_result",
          "data": {
            "text/plain": [
              "<matplotlib.axes._subplots.AxesSubplot at 0x7f443fa40850>"
            ]
          },
          "metadata": {
            "tags": []
          },
          "execution_count": 71
        },
        {
          "output_type": "display_data",
          "data": {
            "image/png": "[encoded data removed]",
            "text/plain": [
              "<Figure size 432x288 with 1 Axes>"
            ]
          },
          "metadata": {
            "tags": [],
            "needs_background": "light"
          }
        }
      ]
    },
    {
      "cell_type": "code",
      "metadata": {
        "colab": {
          "base_uri": "https://localhost:8080/"
        },
        "id": "GBltJ-3sFVoy",
        "outputId": "71d38606-5a80-4b78-eab7-496ab29f3f76"
      },
      "source": [
        "formula = 'Calories ~C(Milk)'\n",
        "model = ols(formula,dfnew).fit()\n",
        "anov_table = anova_lm(model)\n",
        "print(anov_table)"
      ],
      "execution_count": 72,
      "outputs": [
        {
          "output_type": "stream",
          "text": [
            "             df        sum_sq       mean_sq         F    PR(>F)\n",
            "C(Milk)     3.0  1.317432e+05  43914.396571  5.184292  0.001789\n",
            "Residual  207.0  1.753427e+06   8470.663896       NaN       NaN\n"
          ],
          "name": "stdout"
        }
      ]
    },
    {
      "cell_type": "code",
      "metadata": {
        "id": "uEtsQJQMFanm"
      },
      "source": [
        "#but since we removed the none factor we can see there is a significant difference "
      ],
      "execution_count": 73,
      "outputs": []
    },
    {
      "cell_type": "code",
      "metadata": {
        "colab": {
          "base_uri": "https://localhost:8080/",
          "height": 235
        },
        "id": "3_W2lw0FFpti",
        "outputId": "aa79c847-bfe1-4d38-8b65-23bc00402179"
      },
      "source": [
        "res = stat()\n",
        "res.tukey_hsd(dfnew,\n",
        "              res_var = 'Calories',\n",
        "              xfac_var = 'Milk',\n",
        "              anova_model = 'Calories ~C(Milk)')\n",
        "res.tukey_summary"
      ],
      "execution_count": 74,
      "outputs": [
        {
          "output_type": "execute_result",
          "data": {
            "text/html": [
              "<div>\n",
              "<style scoped>\n",
              "    .dataframe tbody tr th:only-of-type {\n",
              "        vertical-align: middle;\n",
              "    }\n",
              "\n",
              "    .dataframe tbody tr th {\n",
              "        vertical-align: top;\n",
              "    }\n",
              "\n",
              "    .dataframe thead th {\n",
              "        text-align: right;\n",
              "    }\n",
              "</style>\n",
              "<table border=\"1\" class=\"dataframe\">\n",
              "  <thead>\n",
              "    <tr style=\"text-align: right;\">\n",
              "      <th></th>\n",
              "      <th>group1</th>\n",
              "      <th>group2</th>\n",
              "      <th>Diff</th>\n",
              "      <th>Lower</th>\n",
              "      <th>Upper</th>\n",
              "      <th>q-value</th>\n",
              "      <th>p-value</th>\n",
              "    </tr>\n",
              "  </thead>\n",
              "  <tbody>\n",
              "    <tr>\n",
              "      <th>0</th>\n",
              "      <td>Nonfat Milk</td>\n",
              "      <td>2% Milk</td>\n",
              "      <td>28.493827</td>\n",
              "      <td>-14.380041</td>\n",
              "      <td>71.367696</td>\n",
              "      <td>2.434439</td>\n",
              "      <td>0.315317</td>\n",
              "    </tr>\n",
              "    <tr>\n",
              "      <th>1</th>\n",
              "      <td>Nonfat Milk</td>\n",
              "      <td>Soymilk</td>\n",
              "      <td>18.186135</td>\n",
              "      <td>-21.511239</td>\n",
              "      <td>57.883509</td>\n",
              "      <td>1.678106</td>\n",
              "      <td>0.620007</td>\n",
              "    </tr>\n",
              "    <tr>\n",
              "      <th>2</th>\n",
              "      <td>Nonfat Milk</td>\n",
              "      <td>Whole Milk</td>\n",
              "      <td>99.827160</td>\n",
              "      <td>32.818334</td>\n",
              "      <td>166.835987</td>\n",
              "      <td>5.457045</td>\n",
              "      <td>0.001000</td>\n",
              "    </tr>\n",
              "    <tr>\n",
              "      <th>3</th>\n",
              "      <td>2% Milk</td>\n",
              "      <td>Soymilk</td>\n",
              "      <td>10.307692</td>\n",
              "      <td>-34.535010</td>\n",
              "      <td>55.150395</td>\n",
              "      <td>0.841997</td>\n",
              "      <td>0.900000</td>\n",
              "    </tr>\n",
              "    <tr>\n",
              "      <th>4</th>\n",
              "      <td>2% Milk</td>\n",
              "      <td>Whole Milk</td>\n",
              "      <td>71.333333</td>\n",
              "      <td>1.153783</td>\n",
              "      <td>141.512884</td>\n",
              "      <td>3.723255</td>\n",
              "      <td>0.044752</td>\n",
              "    </tr>\n",
              "    <tr>\n",
              "      <th>5</th>\n",
              "      <td>Soymilk</td>\n",
              "      <td>Whole Milk</td>\n",
              "      <td>81.641026</td>\n",
              "      <td>13.355726</td>\n",
              "      <td>149.926326</td>\n",
              "      <td>4.379475</td>\n",
              "      <td>0.011860</td>\n",
              "    </tr>\n",
              "  </tbody>\n",
              "</table>\n",
              "</div>"
            ],
            "text/plain": [
              "        group1      group2       Diff  ...       Upper   q-value   p-value\n",
              "0  Nonfat Milk     2% Milk  28.493827  ...   71.367696  2.434439  0.315317\n",
              "1  Nonfat Milk     Soymilk  18.186135  ...   57.883509  1.678106  0.620007\n",
              "2  Nonfat Milk  Whole Milk  99.827160  ...  166.835987  5.457045  0.001000\n",
              "3      2% Milk     Soymilk  10.307692  ...   55.150395  0.841997  0.900000\n",
              "4      2% Milk  Whole Milk  71.333333  ...  141.512884  3.723255  0.044752\n",
              "5      Soymilk  Whole Milk  81.641026  ...  149.926326  4.379475  0.011860\n",
              "\n",
              "[6 rows x 7 columns]"
            ]
          },
          "metadata": {
            "tags": []
          },
          "execution_count": 74
        }
      ]
    },
    {
      "cell_type": "code",
      "metadata": {
        "id": "OVgbmjAyF9xC"
      },
      "source": [
        "sam = res.tukey_summary"
      ],
      "execution_count": 84,
      "outputs": []
    },
    {
      "cell_type": "code",
      "metadata": {
        "id": "lB5Wb_Q9GIZ7"
      },
      "source": [
        "#any milk is better than whole milk but there is no evidence to prove that nonfat milk is any better than 2 percent or anymilk"
      ],
      "execution_count": 85,
      "outputs": []
    },
    {
      "cell_type": "markdown",
      "metadata": {
        "id": "fPLVEH1lHJMA"
      },
      "source": [
        "**Linear regression**"
      ]
    },
    {
      "cell_type": "code",
      "metadata": {
        "colab": {
          "base_uri": "https://localhost:8080/"
        },
        "id": "6j7Od23CHIIb",
        "outputId": "079053af-a062-4816-d62c-9526cfc63424"
      },
      "source": [
        "df.columns"
      ],
      "execution_count": 86,
      "outputs": [
        {
          "output_type": "execute_result",
          "data": {
            "text/plain": [
              "Index(['Category', 'Beverage', 'Size', 'Milk', 'Calories', 'TotalFat',\n",
              "       'TransFat', 'SaturatedFat', 'Sodium', 'TotalCarb', 'Cholesterol',\n",
              "       'DietaryFibre', 'Sugars', 'Protein', 'Calorie_cat'],\n",
              "      dtype='object')"
            ]
          },
          "metadata": {
            "tags": []
          },
          "execution_count": 86
        }
      ]
    },
    {
      "cell_type": "code",
      "metadata": {
        "colab": {
          "base_uri": "https://localhost:8080/"
        },
        "id": "vB91ElsAHQxI",
        "outputId": "50147de4-9056-42ae-b613-983f34498ed0"
      },
      "source": [
        "formula = 'Calories ~ Category + Beverage + Size+ Milk + TotalFat + TransFat + SaturatedFat + Sodium + TotalCarb + Cholesterol + DietaryFibre + Sugars + Protein'\n",
        "lm = smf.ols(formula = formula, data = df).fit()\n",
        "print(lm.summary())"
      ],
      "execution_count": 89,
      "outputs": [
        {
          "output_type": "stream",
          "text": [
            "                            OLS Regression Results                            \n",
            "==============================================================================\n",
            "Dep. Variable:               Calories   R-squared:                       0.999\n",
            "Model:                            OLS   Adj. R-squared:                  0.998\n",
            "Method:                 Least Squares   F-statistic:                     2673.\n",
            "Date:                Sun, 08 Aug 2021   Prob (F-statistic):          3.27e-244\n",
            "Time:                        14:23:43   Log-Likelihood:                -665.69\n",
            "No. Observations:                 238   AIC:                             1429.\n",
            "Df Residuals:                     189   BIC:                             1600.\n",
            "Df Model:                          48                                         \n",
            "Covariance Type:            nonrobust                                         \n",
            "==================================================================================================================================\n",
            "                                                                     coef    std err          t      P>|t|      [0.025      0.975]\n",
            "----------------------------------------------------------------------------------------------------------------------------------\n",
            "Intercept                                                          5.9159      2.427      2.438      0.016       1.129      10.703\n",
            "Category[T.Coffee]                                                -1.7858      1.328     -1.345      0.180      -4.405       0.833\n",
            "Category[T.Frappuccino Blended Coffee]                            -6.2365      2.749     -2.269      0.024     -11.660      -0.814\n",
            "Category[T.Frappuccino Blended Creme]                             -2.4348      1.535     -1.587      0.114      -5.462       0.592\n",
            "Category[T.Frappuccino Light Blended Coffee]                      -7.1418      2.837     -2.518      0.013     -12.737      -1.546\n",
            "Category[T.Shaken Iced Beverages]                                 -3.8096      1.881     -2.025      0.044      -7.521      -0.098\n",
            "Category[T.Signature Espresso Drinks]                              1.4891      1.665      0.895      0.372      -1.794       4.773\n",
            "Category[T.Smoothies]                                             11.5911      7.981      1.452      0.148      -4.152      27.335\n",
            "Category[T.Tazo Tea Drinks]                                        0.6722      1.297      0.518      0.605      -1.887       3.231\n",
            "Beverage[T.Brewed Coffee]                                         -1.7858      1.328     -1.345      0.180      -4.405       0.833\n",
            "Beverage[T.Caffe Americano]                                        1.5733      2.253      0.698      0.486      -2.870       6.017\n",
            "Beverage[T.Caffe Latte]                                            6.5697      2.039      3.222      0.002       2.547      10.593\n",
            "Beverage[T.Caffe Mocha (Without Whipped Cream)]                   -7.2393      2.244     -3.225      0.001     -11.667      -2.812\n",
            "Beverage[T.Cappuccino]                                             1.3637      1.750      0.779      0.437      -2.088       4.815\n",
            "Beverage[T.Caramel]                                                0.9622      3.079      0.312      0.755      -5.112       7.036\n",
            "Beverage[T.Caramel (Without Whipped Cream)]                        0.7891      2.379      0.332      0.740      -3.904       5.482\n",
            "Beverage[T.Caramel Apple Spice (Without Whipped Cream)]            5.9540      3.447      1.727      0.086      -0.845      12.753\n",
            "Beverage[T.Caramel Macchiato]                                      4.2360      1.708      2.479      0.014       0.866       7.606\n",
            "Beverage[T.Coffee]                                                 0.3118      1.961      0.159      0.874      -3.556       4.180\n",
            "Beverage[T.Espresso]                                               0.0861      3.288      0.026      0.979      -6.400       6.573\n",
            "Beverage[T.Hot Chocolate (Without Whipped Cream)]                -12.1538      1.750     -6.946      0.000     -15.605      -8.702\n",
            "Beverage[T.Iced Brewed Coffee (With Classic Syrup)]                1.6434      2.211      0.743      0.458      -2.719       6.006\n",
            "Beverage[T.Iced Brewed Coffee (With Milk & Classic Syrup)]         0.0128      1.774      0.007      0.994      -3.486       3.512\n",
            "Beverage[T.Java Chip]                                             -4.0320      3.376     -1.194      0.234     -10.692       2.628\n",
            "Beverage[T.Java Chip (Without Whipped Cream)]                     -4.8860      2.873     -1.701      0.091     -10.554       0.782\n",
            "Beverage[T.Mocha]                                                 -1.4804      2.898     -0.511      0.610      -7.196       4.235\n",
            "Beverage[T.Mocha (Without Whipped Cream)]                         -5.0429      2.118     -2.381      0.018      -9.221      -0.865\n",
            "Beverage[T.Orange Mango Banana Smoothie]                           4.7607      3.961      1.202      0.231      -3.053      12.574\n",
            "Beverage[T.Shaken Iced Tazo Tea (With Classic Syrup)]             -3.2652      2.208     -1.479      0.141      -7.620       1.090\n",
            "Beverage[T.Shaken Iced Tazo Tea Lemonade (With Classic Syrup)]    -2.2006      2.421     -0.909      0.365      -6.977       2.576\n",
            "Beverage[T.Skinny Latte (Any Flavour)]                             4.8707      2.649      1.839      0.068      -0.355      10.096\n",
            "Beverage[T.Strawberries & Creme (Without Whipped Cream)]          -2.4348      1.535     -1.587      0.114      -5.462       0.592\n",
            "Beverage[T.Strawberry Banana Smoothie]                             6.7146      4.001      1.678      0.095      -1.178      14.607\n",
            "Beverage[T.Tazo Chai Tea Latte]                                   -0.8742      1.661     -0.526      0.599      -4.150       2.402\n",
            "Beverage[T.Tazo Full-Leaf Red Tea Latte (Vanilla Rooibos)]        -0.2010      1.334     -0.151      0.880      -2.833       2.431\n",
            "Beverage[T.Tazo Full-Leaf Tea Latte]                              -0.2010      1.334     -0.151      0.880      -2.833       2.431\n",
            "Beverage[T.Tazo Green Tea Latte]                                   6.9737      2.137      3.263      0.001       2.758      11.189\n",
            "Beverage[T.Tazo Tea]                                              -5.0254      2.391     -2.101      0.037      -9.743      -0.308\n",
            "Beverage[T.Vanilla Latte (Or Other Flavoured Latte)]               6.3477      1.922      3.303      0.001       2.557      10.139\n",
            "Beverage[T.White Chocolate Mocha (Without Whipped Cream)]          3.4529      2.728      1.266      0.207      -1.927       8.833\n",
            "Size[T.Grande]                                                     2.9865      1.207      2.475      0.014       0.606       5.367\n",
            "Size[T.Short]                                                     -2.2544      1.161     -1.941      0.054      -4.545       0.037\n",
            "Size[T.Single]                                                    -1.1644      6.316     -0.184      0.854     -13.624      11.295\n",
            "Size[T.Tall]                                                       0.8889      0.887      1.002      0.318      -0.861       2.639\n",
            "Size[T.Venti]                                                      4.2089      1.947      2.161      0.032       0.367       8.050\n",
            "Milk[T.None]                                                      -3.0201      2.213     -1.365      0.174      -7.386       1.346\n",
            "Milk[T.Nonfat Milk]                                               -0.7602      1.915     -0.397      0.692      -4.539       3.018\n",
            "Milk[T.Soymilk]                                                   -0.6926      1.903     -0.364      0.716      -4.447       3.062\n",
            "Milk[T.Whole Milk]                                                 0.8221      1.795      0.458      0.647      -2.718       4.363\n",
            "TotalFat                                                          10.2621      0.631     16.264      0.000       9.017      11.507\n",
            "TransFat                                                          -1.6747      1.339     -1.250      0.213      -4.317       0.967\n",
            "SaturatedFat                                                     -13.2391     18.450     -0.718      0.474     -49.634      23.156\n",
            "Sodium                                                            -0.1745      0.185     -0.942      0.347      -0.540       0.191\n",
            "TotalCarb                                                          0.0298      0.022      1.346      0.180      -0.014       0.073\n",
            "Cholesterol                                                        1.9358      0.486      3.981      0.000       0.977       2.895\n",
            "DietaryFibre                                                       0.0529      1.192      0.044      0.965      -2.298       2.404\n",
            "Sugars                                                             2.0113      0.488      4.121      0.000       1.049       2.974\n",
            "Protein                                                            3.1168      0.331      9.420      0.000       2.464       3.769\n",
            "==============================================================================\n",
            "Omnibus:                       39.833   Durbin-Watson:                   2.032\n",
            "Prob(Omnibus):                  0.000   Jarque-Bera (JB):              122.960\n",
            "Skew:                           0.678   Prob(JB):                     1.99e-27\n",
            "Kurtosis:                       6.250   Cond. No.                     2.52e+16\n",
            "==============================================================================\n",
            "\n",
            "Warnings:\n",
            "[1] Standard Errors assume that the covariance matrix of the errors is correctly specified.\n",
            "[2] The smallest eigenvalue is 9.82e-27. This might indicate that there are\n",
            "strong multicollinearity problems or that the design matrix is singular.\n"
          ],
          "name": "stdout"
        }
      ]
    },
    {
      "cell_type": "code",
      "metadata": {
        "colab": {
          "base_uri": "https://localhost:8080/"
        },
        "id": "AjMcE83IIscE",
        "outputId": "ba663943-9b03-47e2-ca84-9114d8ab31f7"
      },
      "source": [
        "formula = 'Calories ~ TotalFat + Sugars + Protein'\n",
        "lm = smf.ols(formula = formula, data = df).fit()\n",
        "print(lm.summary())"
      ],
      "execution_count": 92,
      "outputs": [
        {
          "output_type": "stream",
          "text": [
            "                            OLS Regression Results                            \n",
            "==============================================================================\n",
            "Dep. Variable:               Calories   R-squared:                       0.992\n",
            "Model:                            OLS   Adj. R-squared:                  0.991\n",
            "Method:                 Least Squares   F-statistic:                     9152.\n",
            "Date:                Sun, 08 Aug 2021   Prob (F-statistic):          3.42e-242\n",
            "Time:                        14:28:18   Log-Likelihood:                -873.77\n",
            "No. Observations:                 238   AIC:                             1756.\n",
            "Df Residuals:                     234   BIC:                             1769.\n",
            "Df Model:                           3                                         \n",
            "Covariance Type:            nonrobust                                         \n",
            "==============================================================================\n",
            "                 coef    std err          t      P>|t|      [0.025      0.975]\n",
            "------------------------------------------------------------------------------\n",
            "Intercept      1.7872      1.365      1.309      0.192      -0.902       4.476\n",
            "TotalFat       8.6220      0.260     33.195      0.000       8.110       9.134\n",
            "Sugars         3.9879      0.034    118.833      0.000       3.922       4.054\n",
            "Protein        5.0997      0.153     33.266      0.000       4.798       5.402\n",
            "==============================================================================\n",
            "Omnibus:                       41.852   Durbin-Watson:                   1.548\n",
            "Prob(Omnibus):                  0.000   Jarque-Bera (JB):               67.363\n",
            "Skew:                           0.982   Prob(JB):                     2.36e-15\n",
            "Kurtosis:                       4.713   Cond. No.                         85.8\n",
            "==============================================================================\n",
            "\n",
            "Warnings:\n",
            "[1] Standard Errors assume that the covariance matrix of the errors is correctly specified.\n"
          ],
          "name": "stdout"
        }
      ]
    },
    {
      "cell_type": "code",
      "metadata": {
        "colab": {
          "base_uri": "https://localhost:8080/"
        },
        "id": "0KoWyAM6Kb1e",
        "outputId": "bade7419-0114-4335-db3d-30be4a0df8c5"
      },
      "source": [
        "formula = 'Calories ~ TransFat + Sugars + Protein'\n",
        "lm = smf.ols(formula = formula, data = df).fit()\n",
        "print(lm.summary())"
      ],
      "execution_count": 93,
      "outputs": [
        {
          "output_type": "stream",
          "text": [
            "                            OLS Regression Results                            \n",
            "==============================================================================\n",
            "Dep. Variable:               Calories   R-squared:                       0.973\n",
            "Model:                            OLS   Adj. R-squared:                  0.973\n",
            "Method:                 Least Squares   F-statistic:                     2820.\n",
            "Date:                Sun, 08 Aug 2021   Prob (F-statistic):          2.50e-183\n",
            "Time:                        14:29:11   Log-Likelihood:                -1011.6\n",
            "No. Observations:                 238   AIC:                             2031.\n",
            "Df Residuals:                     234   BIC:                             2045.\n",
            "Df Model:                           3                                         \n",
            "Covariance Type:            nonrobust                                         \n",
            "==============================================================================\n",
            "                 coef    std err          t      P>|t|      [0.025      0.975]\n",
            "------------------------------------------------------------------------------\n",
            "Intercept      6.1205      2.472      2.476      0.014       1.250      10.991\n",
            "TransFat      11.2974      0.830     13.616      0.000       9.663      12.932\n",
            "Sugars         3.9549      0.062     63.647      0.000       3.833       4.077\n",
            "Protein        6.1130      0.262     23.298      0.000       5.596       6.630\n",
            "==============================================================================\n",
            "Omnibus:                       20.110   Durbin-Watson:                   2.494\n",
            "Prob(Omnibus):                  0.000   Jarque-Bera (JB):               22.622\n",
            "Skew:                           0.709   Prob(JB):                     1.22e-05\n",
            "Kurtosis:                       3.520   Cond. No.                         87.1\n",
            "==============================================================================\n",
            "\n",
            "Warnings:\n",
            "[1] Standard Errors assume that the covariance matrix of the errors is correctly specified.\n"
          ],
          "name": "stdout"
        }
      ]
    },
    {
      "cell_type": "code",
      "metadata": {
        "id": "IIkenJovKufI"
      },
      "source": [
        "pred = lm.predict(df)"
      ],
      "execution_count": 94,
      "outputs": []
    },
    {
      "cell_type": "code",
      "metadata": {
        "colab": {
          "base_uri": "https://localhost:8080/",
          "height": 350
        },
        "id": "kEu7qAqPLORs",
        "outputId": "f2e49083-21c6-4f38-cd3e-57b8f69bea09"
      },
      "source": [
        "sns.scatterplot(df.Calories, pred)"
      ],
      "execution_count": 95,
      "outputs": [
        {
          "output_type": "stream",
          "text": [
            "/usr/local/lib/python3.7/dist-packages/seaborn/_decorators.py:43: FutureWarning: Pass the following variables as keyword args: x, y. From version 0.12, the only valid positional argument will be `data`, and passing other arguments without an explicit keyword will result in an error or misinterpretation.\n",
            "  FutureWarning\n"
          ],
          "name": "stderr"
        },
        {
          "output_type": "execute_result",
          "data": {
            "text/plain": [
              "<matplotlib.axes._subplots.AxesSubplot at 0x7f443fdaf950>"
            ]
          },
          "metadata": {
            "tags": []
          },
          "execution_count": 95
        },
        {
          "output_type": "display_data",
          "data": {
            "image/png": "[encoded data removed]",
            "text/plain": [
              "<Figure size 432x288 with 1 Axes>"
            ]
          },
          "metadata": {
            "tags": [],
            "needs_background": "light"
          }
        }
      ]
    },
    {
      "cell_type": "code",
      "metadata": {
        "colab": {
          "base_uri": "https://localhost:8080/",
          "height": 352
        },
        "id": "Gm6gsCZ8LHPE",
        "outputId": "de5471c2-aaca-4392-c861-0315f7be4373"
      },
      "source": [
        "sns.scatterplot(df.Calories, pred-df.Calories )"
      ],
      "execution_count": 97,
      "outputs": [
        {
          "output_type": "stream",
          "text": [
            "/usr/local/lib/python3.7/dist-packages/seaborn/_decorators.py:43: FutureWarning: Pass the following variables as keyword args: x, y. From version 0.12, the only valid positional argument will be `data`, and passing other arguments without an explicit keyword will result in an error or misinterpretation.\n",
            "  FutureWarning\n"
          ],
          "name": "stderr"
        },
        {
          "output_type": "execute_result",
          "data": {
            "text/plain": [
              "<matplotlib.axes._subplots.AxesSubplot at 0x7f443f724110>"
            ]
          },
          "metadata": {
            "tags": []
          },
          "execution_count": 97
        },
        {
          "output_type": "display_data",
          "data": {
            "image/png": "[encoded data removed]",
            "text/plain": [
              "<Figure size 432x288 with 1 Axes>"
            ]
          },
          "metadata": {
            "tags": [],
            "needs_background": "light"
          }
        }
      ]
    },
    {
      "cell_type": "code",
      "metadata": {
        "colab": {
          "base_uri": "https://localhost:8080/",
          "height": 282
        },
        "id": "1olM-VHdL5jJ",
        "outputId": "34f4fdea-c68e-4409-fa2a-4ab7a12dd251"
      },
      "source": [
        "sns.kdeplot(pred-df.Calories)"
      ],
      "execution_count": 98,
      "outputs": [
        {
          "output_type": "execute_result",
          "data": {
            "text/plain": [
              "<matplotlib.axes._subplots.AxesSubplot at 0x7f443f664490>"
            ]
          },
          "metadata": {
            "tags": []
          },
          "execution_count": 98
        },
        {
          "output_type": "display_data",
          "data": {
            "image/png": "[encoded data removed]",
            "text/plain": [
              "<Figure size 432x288 with 1 Axes>"
            ]
          },
          "metadata": {
            "tags": [],
            "needs_background": "light"
          }
        }
      ]
    },
    {
      "cell_type": "code",
      "metadata": {
        "colab": {
          "base_uri": "https://localhost:8080/"
        },
        "id": "e9kJQ2EqL_4u",
        "outputId": "15013313-d7bc-4ddd-b6b1-4ad209683659"
      },
      "source": [
        "formula2 = 'Calories ~  Sugars + Cholesterol + TransFat + Protein'\n",
        "lm2 = smf.ols(formula = formula2, data = df).fit()\n",
        "print(lm2.summary())"
      ],
      "execution_count": 109,
      "outputs": [
        {
          "output_type": "stream",
          "text": [
            "                            OLS Regression Results                            \n",
            "==============================================================================\n",
            "Dep. Variable:               Calories   R-squared:                       0.979\n",
            "Model:                            OLS   Adj. R-squared:                  0.978\n",
            "Method:                 Least Squares   F-statistic:                     2663.\n",
            "Date:                Sun, 08 Aug 2021   Prob (F-statistic):          3.75e-193\n",
            "Time:                        14:44:41   Log-Likelihood:                -984.38\n",
            "No. Observations:                 238   AIC:                             1979.\n",
            "Df Residuals:                     233   BIC:                             1996.\n",
            "Df Model:                           4                                         \n",
            "Covariance Type:            nonrobust                                         \n",
            "===============================================================================\n",
            "                  coef    std err          t      P>|t|      [0.025      0.975]\n",
            "-------------------------------------------------------------------------------\n",
            "Intercept       7.7152      2.219      3.477      0.001       3.343      12.087\n",
            "Sugars          1.3118      0.346      3.793      0.000       0.630       1.993\n",
            "Cholesterol     2.6029      0.336      7.744      0.000       1.941       3.265\n",
            "TransFat       12.0896      0.749     16.151      0.000      10.615      13.564\n",
            "Protein         4.7933      0.290     16.535      0.000       4.222       5.364\n",
            "==============================================================================\n",
            "Omnibus:                       48.060   Durbin-Watson:                   2.150\n",
            "Prob(Omnibus):                  0.000   Jarque-Bera (JB):               79.143\n",
            "Skew:                           1.108   Prob(JB):                     6.52e-18\n",
            "Kurtosis:                       4.753   Cond. No.                         128.\n",
            "==============================================================================\n",
            "\n",
            "Warnings:\n",
            "[1] Standard Errors assume that the covariance matrix of the errors is correctly specified.\n"
          ],
          "name": "stdout"
        }
      ]
    },
    {
      "cell_type": "code",
      "metadata": {
        "colab": {
          "base_uri": "https://localhost:8080/",
          "height": 350
        },
        "id": "ul27xpejMINM",
        "outputId": "49a34692-b92d-4620-8157-76d6eda2d022"
      },
      "source": [
        "pred2 = lm.predict(df)\n",
        "sns.scatterplot(df.Calories, pred2)"
      ],
      "execution_count": 110,
      "outputs": [
        {
          "output_type": "stream",
          "text": [
            "/usr/local/lib/python3.7/dist-packages/seaborn/_decorators.py:43: FutureWarning: Pass the following variables as keyword args: x, y. From version 0.12, the only valid positional argument will be `data`, and passing other arguments without an explicit keyword will result in an error or misinterpretation.\n",
            "  FutureWarning\n"
          ],
          "name": "stderr"
        },
        {
          "output_type": "execute_result",
          "data": {
            "text/plain": [
              "<matplotlib.axes._subplots.AxesSubplot at 0x7f443f5c2b90>"
            ]
          },
          "metadata": {
            "tags": []
          },
          "execution_count": 110
        },
        {
          "output_type": "display_data",
          "data": {
            "image/png": "[encoded data removed]",
            "text/plain": [
              "<Figure size 432x288 with 1 Axes>"
            ]
          },
          "metadata": {
            "tags": [],
            "needs_background": "light"
          }
        }
      ]
    },
    {
      "cell_type": "code",
      "metadata": {
        "id": "TCiCj45PN5m4"
      },
      "source": [
        "#The End!!"
      ],
      "execution_count": 111,
      "outputs": []
    },
    {
      "cell_type": "code",
      "metadata": {
        "id": "yXlWy-WSOh4p"
      },
      "source": [
        ""
      ],
      "execution_count": null,
      "outputs": []
    }
  ]
}